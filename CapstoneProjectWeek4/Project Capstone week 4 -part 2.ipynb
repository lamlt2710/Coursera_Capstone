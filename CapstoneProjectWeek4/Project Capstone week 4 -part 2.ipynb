{
 "cells": [
  {
   "cell_type": "markdown",
   "metadata": {
    "collapsed": true
   },
   "source": [
    "<h2>Data Section</h2>"
   ]
  },
  {
   "cell_type": "markdown",
   "metadata": {},
   "source": [
    "<b> Dataset we using in this projects:</b><br>"
   ]
  },
  {
   "cell_type": "markdown",
   "metadata": {},
   "source": [
    "a. Data location from API Foursquare.com to get information about various venues in Toronto <br>\n",
    "We use data via api to get essetial information base on location or keyword of a given location"
   ]
  },
  {
   "cell_type": "markdown",
   "metadata": {},
   "source": [
    "b. Data set of districts in Toronto at url https://en.wikipedia.org/wiki/List_of_postal_codes_of_Canada:_M wiki page to get all the information about the neighborhoods present in Toronto. This page has the postal code, borough & the name of all the neighborhoods present in Toronto. <br>\n",
    "We will scraping data from this url and use following data of districts of Torronto: postcode, boroughm, neigbourhood"
   ]
  },
  {
   "cell_type": "markdown",
   "metadata": {},
   "source": [
    "c. Dataset from url “https://cocl.us/Geospatial_data” csv file to get all the geographical coordinates of the neighborhoods in Toronto\n",
    "We will scraping data from this url and use following data properties for each district of Torronto: latitude, latitude,postcode. Combine this step with step b we could determine location lat,lng for a district based on postcode\n"
   ]
  },
  {
   "cell_type": "markdown",
   "metadata": {},
   "source": [
    "d. To get information about the distribution of population at url: https://en.m.wikipedia.org/wiki/Demographics_of_Toronto#Ethnic_diversity) to evaluate density of population each district in Toronto\n",
    "We will use this information like useful to evaluate some idea usefully for demanding people for a retaurant. "
   ]
  },
  {
   "cell_type": "code",
   "execution_count": null,
   "metadata": {},
   "outputs": [],
   "source": []
  }
 ],
 "metadata": {
  "kernelspec": {
   "display_name": "Python 3.6",
   "language": "python",
   "name": "python3"
  },
  "language_info": {
   "codemirror_mode": {
    "name": "ipython",
    "version": 3
   },
   "file_extension": ".py",
   "mimetype": "text/x-python",
   "name": "python",
   "nbconvert_exporter": "python",
   "pygments_lexer": "ipython3",
   "version": "3.6.9"
  }
 },
 "nbformat": 4,
 "nbformat_minor": 1
}
