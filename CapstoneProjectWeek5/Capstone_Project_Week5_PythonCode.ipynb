{
 "cells": [
  {
   "cell_type": "markdown",
   "metadata": {},
   "source": [
    "<h1 align=center><font size = 5>Find best location to open new restaurant in Toronto?</font></h1>"
   ]
  },
  {
   "cell_type": "markdown",
   "metadata": {},
   "source": [
    "## Introduction\n",
    "\n",
    "In this project I explore by coding to find where is the location for opening new restaurant in Toronto?"
   ]
  },
  {
   "cell_type": "markdown",
   "metadata": {},
   "source": [
    "First of all, let's download all the dependencies that we will need."
   ]
  },
  {
   "cell_type": "code",
   "execution_count": 5,
   "metadata": {},
   "outputs": [
    {
     "name": "stdout",
     "output_type": "stream",
     "text": [
      "Solving environment: done\n",
      "\n",
      "## Package Plan ##\n",
      "\n",
      "  environment location: /opt/conda/envs/Python36\n",
      "\n",
      "  added / updated specs: \n",
      "    - geopy\n",
      "\n",
      "\n",
      "The following packages will be downloaded:\n",
      "\n",
      "    package                    |            build\n",
      "    ---------------------------|-----------------\n",
      "    openssl-1.1.1d             |       h516909a_0         2.1 MB  conda-forge\n",
      "    geographiclib-1.50         |             py_0          34 KB  conda-forge\n",
      "    geopy-1.20.0               |             py_0          57 KB  conda-forge\n",
      "    ca-certificates-2019.11.28 |       hecc5488_0         145 KB  conda-forge\n",
      "    certifi-2019.11.28         |           py36_0         149 KB  conda-forge\n",
      "    ------------------------------------------------------------\n",
      "                                           Total:         2.5 MB\n",
      "\n",
      "The following NEW packages will be INSTALLED:\n",
      "\n",
      "    geographiclib:   1.50-py_0         conda-forge\n",
      "    geopy:           1.20.0-py_0       conda-forge\n",
      "\n",
      "The following packages will be UPDATED:\n",
      "\n",
      "    ca-certificates: 2019.11.27-0                  --> 2019.11.28-hecc5488_0 conda-forge\n",
      "    certifi:         2019.11.28-py36_0             --> 2019.11.28-py36_0     conda-forge\n",
      "\n",
      "The following packages will be DOWNGRADED:\n",
      "\n",
      "    openssl:         1.1.1d-h7b6447c_3             --> 1.1.1d-h516909a_0     conda-forge\n",
      "\n",
      "\n",
      "Downloading and Extracting Packages\n",
      "openssl-1.1.1d       | 2.1 MB    | ##################################### | 100% \n",
      "geographiclib-1.50   | 34 KB     | ##################################### | 100% \n",
      "geopy-1.20.0         | 57 KB     | ##################################### | 100% \n",
      "ca-certificates-2019 | 145 KB    | ##################################### | 100% \n",
      "certifi-2019.11.28   | 149 KB    | ##################################### | 100% \n",
      "Preparing transaction: done\n",
      "Verifying transaction: done\n",
      "Executing transaction: done\n",
      "Solving environment: done\n",
      "\n",
      "## Package Plan ##\n",
      "\n",
      "  environment location: /opt/conda/envs/Python36\n",
      "\n",
      "  added / updated specs: \n",
      "    - folium=0.5.0\n",
      "\n",
      "\n",
      "The following packages will be downloaded:\n",
      "\n",
      "    package                    |            build\n",
      "    ---------------------------|-----------------\n",
      "    altair-4.0.1               |             py_0         575 KB  conda-forge\n",
      "    vincent-0.4.4              |             py_1          28 KB  conda-forge\n",
      "    branca-0.3.1               |             py_0          25 KB  conda-forge\n",
      "    folium-0.5.0               |             py_0          45 KB  conda-forge\n",
      "    ------------------------------------------------------------\n",
      "                                           Total:         673 KB\n",
      "\n",
      "The following NEW packages will be INSTALLED:\n",
      "\n",
      "    altair:  4.0.1-py_0 conda-forge\n",
      "    branca:  0.3.1-py_0 conda-forge\n",
      "    folium:  0.5.0-py_0 conda-forge\n",
      "    vincent: 0.4.4-py_1 conda-forge\n",
      "\n",
      "\n",
      "Downloading and Extracting Packages\n",
      "altair-4.0.1         | 575 KB    | ##################################### | 100% \n",
      "vincent-0.4.4        | 28 KB     | ##################################### | 100% \n",
      "branca-0.3.1         | 25 KB     | ##################################### | 100% \n",
      "folium-0.5.0         | 45 KB     | ##################################### | 100% \n",
      "Preparing transaction: done\n",
      "Verifying transaction: done\n",
      "Executing transaction: done\n"
     ]
    }
   ],
   "source": [
    "!conda install -c conda-forge geopy  # uncomment this line if you haven't completed the Foursquare API lab\n",
    "!conda install -c conda-forge folium=0.5.0  # uncomment this line if you haven't completed the Foursquare API lab"
   ]
  },
  {
   "cell_type": "code",
   "execution_count": 7,
   "metadata": {},
   "outputs": [
    {
     "name": "stdout",
     "output_type": "stream",
     "text": [
      "Libraries imported.\n"
     ]
    }
   ],
   "source": [
    "import numpy as np # library to handle data in a vectorized manner\n",
    "import pandas as pd # library for data analsysis\n",
    "pd.set_option('display.max_columns', None)\n",
    "pd.set_option('display.max_rows', None)\n",
    "import json # library to handle JSON files\n",
    "\n",
    "from geopy.geocoders import Nominatim # convert an address into latitude and longitude values\n",
    "import requests # library to handle requests\n",
    "from pandas.io.json import json_normalize # tranform JSON file into a pandas dataframe\n",
    "# Matplotlib and associated plotting modules\n",
    "import matplotlib.cm as cm\n",
    "import matplotlib.colors as colors\n",
    "# import k-means from clustering stage\n",
    "from sklearn.cluster import KMeans\n",
    "from sklearn.datasets.samples_generator import make_blobs\n",
    "#!conda install -c conda-forge folium=0.5.0 --yes # uncomment this line if you haven't completed the Foursquare API lab\n",
    "import folium # map rendering library\n",
    "from bs4 import BeautifulSoup\n",
    "import lxml\n",
    "import seaborn as sns\n",
    "print('Libraries imported.')"
   ]
  },
  {
   "cell_type": "markdown",
   "metadata": {},
   "source": [
    "## 1.Data acquisition and cleaning "
   ]
  },
  {
   "cell_type": "markdown",
   "metadata": {},
   "source": [
    "### 1.1.Collect postcode, latitude,longtitude for  locations in Toronto from Wikipedia"
   ]
  },
  {
   "cell_type": "code",
   "execution_count": 8,
   "metadata": {
    "scrolled": true
   },
   "outputs": [
    {
     "data": {
      "text/html": [
       "<div>\n",
       "<style scoped>\n",
       "    .dataframe tbody tr th:only-of-type {\n",
       "        vertical-align: middle;\n",
       "    }\n",
       "\n",
       "    .dataframe tbody tr th {\n",
       "        vertical-align: top;\n",
       "    }\n",
       "\n",
       "    .dataframe thead th {\n",
       "        text-align: right;\n",
       "    }\n",
       "</style>\n",
       "<table border=\"1\" class=\"dataframe\">\n",
       "  <thead>\n",
       "    <tr style=\"text-align: right;\">\n",
       "      <th></th>\n",
       "      <th>Postcode</th>\n",
       "      <th>Borough</th>\n",
       "      <th>Neighborhood</th>\n",
       "    </tr>\n",
       "  </thead>\n",
       "  <tbody>\n",
       "    <tr>\n",
       "      <th>0</th>\n",
       "      <td>M3A</td>\n",
       "      <td>North York</td>\n",
       "      <td>Parkwoods</td>\n",
       "    </tr>\n",
       "    <tr>\n",
       "      <th>1</th>\n",
       "      <td>M4A</td>\n",
       "      <td>North York</td>\n",
       "      <td>Victoria Village</td>\n",
       "    </tr>\n",
       "    <tr>\n",
       "      <th>2</th>\n",
       "      <td>M5A</td>\n",
       "      <td>Downtown Toronto</td>\n",
       "      <td>Regent Park</td>\n",
       "    </tr>\n",
       "    <tr>\n",
       "      <th>3</th>\n",
       "      <td>M6A</td>\n",
       "      <td>North York</td>\n",
       "      <td>Lawrence Manor, Lawrence Heights</td>\n",
       "    </tr>\n",
       "    <tr>\n",
       "      <th>4</th>\n",
       "      <td>M7A</td>\n",
       "      <td>Downtown Toronto</td>\n",
       "      <td>Queen's Park</td>\n",
       "    </tr>\n",
       "    <tr>\n",
       "      <th>5</th>\n",
       "      <td>M9A</td>\n",
       "      <td>Queen's Park (Toronto)</td>\n",
       "      <td>Queen's Park</td>\n",
       "    </tr>\n",
       "    <tr>\n",
       "      <th>6</th>\n",
       "      <td>M1B</td>\n",
       "      <td>Scarborough, Toronto</td>\n",
       "      <td>Malvern, Rouge</td>\n",
       "    </tr>\n",
       "    <tr>\n",
       "      <th>7</th>\n",
       "      <td>M3B</td>\n",
       "      <td>North York</td>\n",
       "      <td>Don Mills North</td>\n",
       "    </tr>\n",
       "    <tr>\n",
       "      <th>8</th>\n",
       "      <td>M4B</td>\n",
       "      <td>East York</td>\n",
       "      <td>Parkview Hill, Woodbine Gardens</td>\n",
       "    </tr>\n",
       "    <tr>\n",
       "      <th>9</th>\n",
       "      <td>M5B</td>\n",
       "      <td>Downtown Toronto</td>\n",
       "      <td>Ryerson, Garden District</td>\n",
       "    </tr>\n",
       "    <tr>\n",
       "      <th>10</th>\n",
       "      <td>M6B</td>\n",
       "      <td>North York</td>\n",
       "      <td>Glencairn</td>\n",
       "    </tr>\n",
       "    <tr>\n",
       "      <th>11</th>\n",
       "      <td>M9B</td>\n",
       "      <td>Etobicoke</td>\n",
       "      <td>Princess Gardens, Cloverdale, West Deane Park,...</td>\n",
       "    </tr>\n",
       "    <tr>\n",
       "      <th>12</th>\n",
       "      <td>M1C</td>\n",
       "      <td>Scarborough, Toronto</td>\n",
       "      <td>Rouge Hill, Port Union, Highland Creek</td>\n",
       "    </tr>\n",
       "    <tr>\n",
       "      <th>13</th>\n",
       "      <td>M3C</td>\n",
       "      <td>North York</td>\n",
       "      <td>Flemingdon Park, Don Mills South</td>\n",
       "    </tr>\n",
       "    <tr>\n",
       "      <th>14</th>\n",
       "      <td>M4C</td>\n",
       "      <td>East York</td>\n",
       "      <td>Woodbine Heights</td>\n",
       "    </tr>\n",
       "    <tr>\n",
       "      <th>15</th>\n",
       "      <td>M5C</td>\n",
       "      <td>Downtown Toronto</td>\n",
       "      <td>St. James Town</td>\n",
       "    </tr>\n",
       "    <tr>\n",
       "      <th>16</th>\n",
       "      <td>M6C</td>\n",
       "      <td>York</td>\n",
       "      <td>Humewood-Cedarvale</td>\n",
       "    </tr>\n",
       "    <tr>\n",
       "      <th>17</th>\n",
       "      <td>M9C</td>\n",
       "      <td>Etobicoke</td>\n",
       "      <td>Eringate, Markland Wood, Old Burnhamthorpe, Bl...</td>\n",
       "    </tr>\n",
       "    <tr>\n",
       "      <th>18</th>\n",
       "      <td>M1E</td>\n",
       "      <td>Scarborough, Toronto</td>\n",
       "      <td>West Hill, Morningside, Guildwood</td>\n",
       "    </tr>\n",
       "    <tr>\n",
       "      <th>19</th>\n",
       "      <td>M4E</td>\n",
       "      <td>East Toronto</td>\n",
       "      <td>The Beaches</td>\n",
       "    </tr>\n",
       "  </tbody>\n",
       "</table>\n",
       "</div>"
      ],
      "text/plain": [
       "   Postcode                 Borough  \\\n",
       "0       M3A              North York   \n",
       "1       M4A              North York   \n",
       "2       M5A        Downtown Toronto   \n",
       "3       M6A              North York   \n",
       "4       M7A        Downtown Toronto   \n",
       "5       M9A  Queen's Park (Toronto)   \n",
       "6       M1B    Scarborough, Toronto   \n",
       "7       M3B              North York   \n",
       "8       M4B               East York   \n",
       "9       M5B        Downtown Toronto   \n",
       "10      M6B              North York   \n",
       "11      M9B               Etobicoke   \n",
       "12      M1C    Scarborough, Toronto   \n",
       "13      M3C              North York   \n",
       "14      M4C               East York   \n",
       "15      M5C        Downtown Toronto   \n",
       "16      M6C                    York   \n",
       "17      M9C               Etobicoke   \n",
       "18      M1E    Scarborough, Toronto   \n",
       "19      M4E            East Toronto   \n",
       "\n",
       "                                         Neighborhood  \n",
       "0                                           Parkwoods  \n",
       "1                                    Victoria Village  \n",
       "2                                         Regent Park  \n",
       "3                    Lawrence Manor, Lawrence Heights  \n",
       "4                                       Queen's Park   \n",
       "5                                       Queen's Park   \n",
       "6                                      Malvern, Rouge  \n",
       "7                                     Don Mills North  \n",
       "8                     Parkview Hill, Woodbine Gardens  \n",
       "9                            Ryerson, Garden District  \n",
       "10                                          Glencairn  \n",
       "11  Princess Gardens, Cloverdale, West Deane Park,...  \n",
       "12            Rouge Hill, Port Union, Highland Creek   \n",
       "13                   Flemingdon Park, Don Mills South  \n",
       "14                                   Woodbine Heights  \n",
       "15                                     St. James Town  \n",
       "16                                 Humewood-Cedarvale  \n",
       "17  Eringate, Markland Wood, Old Burnhamthorpe, Bl...  \n",
       "18                  West Hill, Morningside, Guildwood  \n",
       "19                                        The Beaches  "
      ]
     },
     "execution_count": 8,
     "metadata": {},
     "output_type": "execute_result"
    }
   ],
   "source": [
    "# download data and parse it:\n",
    "r = requests.get('https://en.wikipedia.org/wiki/List_of_postal_codes_of_Canada:_M')\n",
    "soup = BeautifulSoup(r.text, 'html.parser')\n",
    "table=soup.find('table', attrs={'class':'wikitable sortable'})\n",
    "\n",
    "#get headers:\n",
    "headers=table.findAll('th')\n",
    "for i, head in enumerate(headers): headers[i]=str(headers[i]).replace(\"<th>\",\"\").replace(\"</th>\",\"\").replace(\"\\n\",\"\")\n",
    "\n",
    "#Find all items and skip first one:\n",
    "rows=table.findAll('tr')\n",
    "rows=rows[1:len(rows)]\n",
    "\n",
    "# skip all meta symbols and line feeds between rows:\n",
    "for i, row in enumerate(rows): rows[i] = str(rows[i]).replace(\"\\n</td></tr>\",\"\").replace(\"<tr>\\n<td>\",\"\")\n",
    "\n",
    "# make dataframe, expand rows and drop the old one:\n",
    "df=pd.DataFrame(rows)\n",
    "df[headers] = df[0].str.split(\"</td>\\n<td>\", n = 2, expand = True) \n",
    "df.drop(columns=[0],inplace=True)\n",
    "\n",
    "# skip not assigned boroughs:\n",
    "df = df.drop(df[(df.Borough == \"Not assigned\")].index)\n",
    "# give \"Not assigned\" Neighborhoods same name as Borough:\n",
    "df.Neighbourhood.replace(\"Not assigned\", df.Borough, inplace=True)\n",
    "\n",
    "# copy Borough value to Neighborhood if NaN:\n",
    "df.Neighbourhood.fillna(df.Borough, inplace=True)\n",
    "# drop duplicate rows:\n",
    "df=df.drop_duplicates()\n",
    "\n",
    "# extract titles from columns\n",
    "df.update(\n",
    "    df.Neighbourhood.loc[\n",
    "        lambda x: x.str.contains('title')\n",
    "    ].str.extract('title=\\\"([^\\\"]*)',expand=False))\n",
    "\n",
    "df.update(\n",
    "    df.Borough.loc[\n",
    "        lambda x: x.str.contains('title')\n",
    "    ].str.extract('title=\\\"([^\\\"]*)',expand=False))\n",
    "\n",
    "# delete Toronto annotation from Neighbourhood:\n",
    "df.update(\n",
    "    df.Neighbourhood.loc[\n",
    "        lambda x: x.str.contains('Toronto')\n",
    "    ].str.replace(\", Toronto\",\"\"))\n",
    "df.update(\n",
    "    df.Neighbourhood.loc[\n",
    "        lambda x: x.str.contains('Toronto')\n",
    "    ].str.replace(\"\\(Toronto\\)\",\"\"))\n",
    "\n",
    "# combine multiple neighborhoods with the same post code\n",
    "df2 = pd.DataFrame({'Postcode':df.Postcode.unique()})\n",
    "df2['Borough']=pd.DataFrame(list(set(df['Borough'].loc[df['Postcode'] == x['Postcode']])) for i, x in df2.iterrows())\n",
    "df2['Neighborhood']=pd.Series(list(set(df['Neighbourhood'].loc[df['Postcode'] == x['Postcode']])) for i, x in df2.iterrows())\n",
    "df2['Neighborhood']=df2['Neighborhood'].apply(lambda x: ', '.join(x))\n",
    "df2.head(20)"
   ]
  },
  {
   "cell_type": "code",
   "execution_count": 9,
   "metadata": {
    "scrolled": true
   },
   "outputs": [
    {
     "data": {
      "text/html": [
       "<div>\n",
       "<style scoped>\n",
       "    .dataframe tbody tr th:only-of-type {\n",
       "        vertical-align: middle;\n",
       "    }\n",
       "\n",
       "    .dataframe tbody tr th {\n",
       "        vertical-align: top;\n",
       "    }\n",
       "\n",
       "    .dataframe thead th {\n",
       "        text-align: right;\n",
       "    }\n",
       "</style>\n",
       "<table border=\"1\" class=\"dataframe\">\n",
       "  <thead>\n",
       "    <tr style=\"text-align: right;\">\n",
       "      <th></th>\n",
       "      <th>Postcode</th>\n",
       "      <th>Borough</th>\n",
       "      <th>Neighborhood</th>\n",
       "      <th>Latitude</th>\n",
       "      <th>Longitude</th>\n",
       "    </tr>\n",
       "  </thead>\n",
       "  <tbody>\n",
       "    <tr>\n",
       "      <th>0</th>\n",
       "      <td>M3A</td>\n",
       "      <td>North York</td>\n",
       "      <td>Parkwoods</td>\n",
       "      <td>43.753259</td>\n",
       "      <td>-79.329656</td>\n",
       "    </tr>\n",
       "    <tr>\n",
       "      <th>1</th>\n",
       "      <td>M4A</td>\n",
       "      <td>North York</td>\n",
       "      <td>Victoria Village</td>\n",
       "      <td>43.725882</td>\n",
       "      <td>-79.315572</td>\n",
       "    </tr>\n",
       "    <tr>\n",
       "      <th>2</th>\n",
       "      <td>M5A</td>\n",
       "      <td>Downtown Toronto</td>\n",
       "      <td>Regent Park</td>\n",
       "      <td>43.654260</td>\n",
       "      <td>-79.360636</td>\n",
       "    </tr>\n",
       "    <tr>\n",
       "      <th>3</th>\n",
       "      <td>M6A</td>\n",
       "      <td>North York</td>\n",
       "      <td>Lawrence Manor, Lawrence Heights</td>\n",
       "      <td>43.718518</td>\n",
       "      <td>-79.464763</td>\n",
       "    </tr>\n",
       "    <tr>\n",
       "      <th>4</th>\n",
       "      <td>M7A</td>\n",
       "      <td>Downtown Toronto</td>\n",
       "      <td>Queen's Park</td>\n",
       "      <td>43.662301</td>\n",
       "      <td>-79.389494</td>\n",
       "    </tr>\n",
       "  </tbody>\n",
       "</table>\n",
       "</div>"
      ],
      "text/plain": [
       "  Postcode           Borough                      Neighborhood   Latitude  \\\n",
       "0      M3A        North York                         Parkwoods  43.753259   \n",
       "1      M4A        North York                  Victoria Village  43.725882   \n",
       "2      M5A  Downtown Toronto                       Regent Park  43.654260   \n",
       "3      M6A        North York  Lawrence Manor, Lawrence Heights  43.718518   \n",
       "4      M7A  Downtown Toronto                     Queen's Park   43.662301   \n",
       "\n",
       "   Longitude  \n",
       "0 -79.329656  \n",
       "1 -79.315572  \n",
       "2 -79.360636  \n",
       "3 -79.464763  \n",
       "4 -79.389494  "
      ]
     },
     "execution_count": 9,
     "metadata": {},
     "output_type": "execute_result"
    }
   ],
   "source": [
    "#download Geo-spatial data\n",
    "dfll= pd.read_csv(\"http://cocl.us/Geospatial_data\")\n",
    "dfll.rename(columns={'Postal Code':'Postcode'}, inplace=True)\n",
    "dfll.set_index(\"Postcode\")\n",
    "df2.set_index(\"Postcode\")\n",
    "#merge two into single dataframe\n",
    "toronto_data=pd.merge(df2, dfll)\n",
    "toronto_data.head()"
   ]
  },
  {
   "cell_type": "markdown",
   "metadata": {},
   "source": [
    "### 1.2. Download the population data for locations in Toronto from https://en.m.wikipedia.org/wiki/Demographics_of_Toronto"
   ]
  },
  {
   "cell_type": "code",
   "execution_count": 10,
   "metadata": {
    "scrolled": true
   },
   "outputs": [
    {
     "name": "stdout",
     "output_type": "stream",
     "text": [
      "Loaded data completely...\n"
     ]
    }
   ],
   "source": [
    "import csv\n",
    "r = requests.get('https://en.m.wikipedia.org/wiki/Demographics_of_Toronto')\n",
    "soup = BeautifulSoup(r.text, 'html.parser')\n",
    "table = soup.find_all('table',{'class':'wikitable sortable'})[1]\n",
    "headers = [header.text for header in table.find_all('th')]\n",
    "\n",
    "table_rows = table.find_all('tr')        \n",
    "rows = []\n",
    "for row in table_rows:\n",
    "   td = row.find_all('td')\n",
    "   row = [row.text for row in td]\n",
    "   rows.append(row)\n",
    "\n",
    "with open('TORONTO_POPULATION.csv', 'w') as f:\n",
    "   writer = csv.writer(f)\n",
    "   writer.writerow(headers)\n",
    "   writer.writerows(row for row in rows if row)\n",
    "print(\"Loaded data completely...\")\n"
   ]
  },
  {
   "cell_type": "markdown",
   "metadata": {},
   "source": [
    "Load data from saved file of csv to data frame"
   ]
  },
  {
   "cell_type": "code",
   "execution_count": 11,
   "metadata": {},
   "outputs": [
    {
     "data": {
      "text/html": [
       "<div>\n",
       "<style scoped>\n",
       "    .dataframe tbody tr th:only-of-type {\n",
       "        vertical-align: middle;\n",
       "    }\n",
       "\n",
       "    .dataframe tbody tr th {\n",
       "        vertical-align: top;\n",
       "    }\n",
       "\n",
       "    .dataframe thead th {\n",
       "        text-align: right;\n",
       "    }\n",
       "</style>\n",
       "<table border=\"1\" class=\"dataframe\">\n",
       "  <thead>\n",
       "    <tr style=\"text-align: right;\">\n",
       "      <th></th>\n",
       "      <th>Top 20 Ethnic origins in the City of Toronto</th>\n",
       "      <th>Population (2016)[33]</th>\n",
       "      <th>Percentage</th>\n",
       "      <th>Riding with Highest Concentration</th>\n",
       "      <th>Percentage\n",
       ".1</th>\n",
       "    </tr>\n",
       "  </thead>\n",
       "  <tbody>\n",
       "    <tr>\n",
       "      <th>0</th>\n",
       "      <td>Chinese</td>\n",
       "      <td>332,830</td>\n",
       "      <td>12.5</td>\n",
       "      <td>Scarborough-Agincourt\\n</td>\n",
       "      <td>47.0\\n</td>\n",
       "    </tr>\n",
       "    <tr>\n",
       "      <th>1</th>\n",
       "      <td>English</td>\n",
       "      <td>331,890</td>\n",
       "      <td>12.3</td>\n",
       "      <td>Beaches-East York\\n</td>\n",
       "      <td>24.2\\n</td>\n",
       "    </tr>\n",
       "    <tr>\n",
       "      <th>2</th>\n",
       "      <td>Canadian</td>\n",
       "      <td>323,175</td>\n",
       "      <td>12.0</td>\n",
       "      <td>Beaches-East York\\n</td>\n",
       "      <td>19.7\\n</td>\n",
       "    </tr>\n",
       "    <tr>\n",
       "      <th>3</th>\n",
       "      <td>Irish</td>\n",
       "      <td>262,965</td>\n",
       "      <td>9.8</td>\n",
       "      <td>Parkdale-High Park\\n</td>\n",
       "      <td>20.0\\n</td>\n",
       "    </tr>\n",
       "    <tr>\n",
       "      <th>4</th>\n",
       "      <td>Scottish</td>\n",
       "      <td>256,250</td>\n",
       "      <td>9.5</td>\n",
       "      <td>Beaches-East York\\n</td>\n",
       "      <td>18.9\\n</td>\n",
       "    </tr>\n",
       "  </tbody>\n",
       "</table>\n",
       "</div>"
      ],
      "text/plain": [
       "  Top 20 Ethnic origins in the City of Toronto Population (2016)[33]  \\\n",
       "0                                      Chinese               332,830   \n",
       "1                                      English               331,890   \n",
       "2                                     Canadian               323,175   \n",
       "3                                        Irish               262,965   \n",
       "4                                     Scottish               256,250   \n",
       "\n",
       "   Percentage\\n Riding with Highest Concentration\\n Percentage\\n.1  \n",
       "0          12.5             Scarborough-Agincourt\\n         47.0\\n  \n",
       "1          12.3                 Beaches-East York\\n         24.2\\n  \n",
       "2          12.0                 Beaches-East York\\n         19.7\\n  \n",
       "3           9.8                Parkdale-High Park\\n         20.0\\n  \n",
       "4           9.5                 Beaches-East York\\n         18.9\\n  "
      ]
     },
     "execution_count": 11,
     "metadata": {},
     "output_type": "execute_result"
    }
   ],
   "source": [
    "pop_data=pd.read_csv('TORONTO_POPULATION.csv')\n",
    "pop_data.head()"
   ]
  },
  {
   "cell_type": "markdown",
   "metadata": {},
   "source": [
    "Rename columns to standard names to be easy for coding"
   ]
  },
  {
   "cell_type": "code",
   "execution_count": 12,
   "metadata": {},
   "outputs": [
    {
     "data": {
      "text/html": [
       "<div>\n",
       "<style scoped>\n",
       "    .dataframe tbody tr th:only-of-type {\n",
       "        vertical-align: middle;\n",
       "    }\n",
       "\n",
       "    .dataframe tbody tr th {\n",
       "        vertical-align: top;\n",
       "    }\n",
       "\n",
       "    .dataframe thead th {\n",
       "        text-align: right;\n",
       "    }\n",
       "</style>\n",
       "<table border=\"1\" class=\"dataframe\">\n",
       "  <thead>\n",
       "    <tr style=\"text-align: right;\">\n",
       "      <th></th>\n",
       "      <th>Ethnic</th>\n",
       "      <th>Population</th>\n",
       "      <th>Percentage</th>\n",
       "      <th>Borough</th>\n",
       "      <th>Borough_percent</th>\n",
       "    </tr>\n",
       "  </thead>\n",
       "  <tbody>\n",
       "    <tr>\n",
       "      <th>0</th>\n",
       "      <td>Chinese</td>\n",
       "      <td>332,830</td>\n",
       "      <td>12.5</td>\n",
       "      <td>Scarborough-Agincourt\\n</td>\n",
       "      <td>47.0\\n</td>\n",
       "    </tr>\n",
       "    <tr>\n",
       "      <th>1</th>\n",
       "      <td>English</td>\n",
       "      <td>331,890</td>\n",
       "      <td>12.3</td>\n",
       "      <td>Beaches-East York\\n</td>\n",
       "      <td>24.2\\n</td>\n",
       "    </tr>\n",
       "    <tr>\n",
       "      <th>2</th>\n",
       "      <td>Canadian</td>\n",
       "      <td>323,175</td>\n",
       "      <td>12.0</td>\n",
       "      <td>Beaches-East York\\n</td>\n",
       "      <td>19.7\\n</td>\n",
       "    </tr>\n",
       "    <tr>\n",
       "      <th>3</th>\n",
       "      <td>Irish</td>\n",
       "      <td>262,965</td>\n",
       "      <td>9.8</td>\n",
       "      <td>Parkdale-High Park\\n</td>\n",
       "      <td>20.0\\n</td>\n",
       "    </tr>\n",
       "    <tr>\n",
       "      <th>4</th>\n",
       "      <td>Scottish</td>\n",
       "      <td>256,250</td>\n",
       "      <td>9.5</td>\n",
       "      <td>Beaches-East York\\n</td>\n",
       "      <td>18.9\\n</td>\n",
       "    </tr>\n",
       "  </tbody>\n",
       "</table>\n",
       "</div>"
      ],
      "text/plain": [
       "     Ethnic Population  Percentage                  Borough Borough_percent\n",
       "0   Chinese    332,830        12.5  Scarborough-Agincourt\\n          47.0\\n\n",
       "1   English    331,890        12.3      Beaches-East York\\n          24.2\\n\n",
       "2  Canadian    323,175        12.0      Beaches-East York\\n          19.7\\n\n",
       "3     Irish    262,965         9.8     Parkdale-High Park\\n          20.0\\n\n",
       "4  Scottish    256,250         9.5      Beaches-East York\\n          18.9\\n"
      ]
     },
     "execution_count": 12,
     "metadata": {},
     "output_type": "execute_result"
    }
   ],
   "source": [
    "pop_data.columns = pop_data.columns.str.replace('\\n','')\n",
    "pop_data.rename(columns = {'Top 20 Ethnic origins in the City of Toronto' : 'Ethnic','Percentage':'Percentage',\n",
    "                   'Population (2016)[33]':'Population',\n",
    "                   'Riding with Highest Concentration':'Borough', \n",
    "                   'Percentage.1':'Borough_percent'}, inplace=True)\n",
    "pop_data.head()"
   ]
  },
  {
   "cell_type": "markdown",
   "metadata": {},
   "source": [
    "Make cleaning and standard data"
   ]
  },
  {
   "cell_type": "code",
   "execution_count": 13,
   "metadata": {
    "scrolled": true
   },
   "outputs": [
    {
     "data": {
      "text/html": [
       "<div>\n",
       "<style scoped>\n",
       "    .dataframe tbody tr th:only-of-type {\n",
       "        vertical-align: middle;\n",
       "    }\n",
       "\n",
       "    .dataframe tbody tr th {\n",
       "        vertical-align: top;\n",
       "    }\n",
       "\n",
       "    .dataframe thead th {\n",
       "        text-align: right;\n",
       "    }\n",
       "</style>\n",
       "<table border=\"1\" class=\"dataframe\">\n",
       "  <thead>\n",
       "    <tr style=\"text-align: right;\">\n",
       "      <th></th>\n",
       "      <th>Ethnic</th>\n",
       "      <th>Population</th>\n",
       "      <th>Percentage</th>\n",
       "      <th>Borough</th>\n",
       "      <th>Borough_percent</th>\n",
       "    </tr>\n",
       "  </thead>\n",
       "  <tbody>\n",
       "    <tr>\n",
       "      <th>0</th>\n",
       "      <td>Chinese</td>\n",
       "      <td>332830</td>\n",
       "      <td>12.5</td>\n",
       "      <td>Scarborough-Agincourt</td>\n",
       "      <td>47.0</td>\n",
       "    </tr>\n",
       "    <tr>\n",
       "      <th>1</th>\n",
       "      <td>English</td>\n",
       "      <td>331890</td>\n",
       "      <td>12.3</td>\n",
       "      <td>Beaches-East York</td>\n",
       "      <td>24.2</td>\n",
       "    </tr>\n",
       "    <tr>\n",
       "      <th>2</th>\n",
       "      <td>Canadian</td>\n",
       "      <td>323175</td>\n",
       "      <td>12.0</td>\n",
       "      <td>Beaches-East York</td>\n",
       "      <td>19.7</td>\n",
       "    </tr>\n",
       "    <tr>\n",
       "      <th>3</th>\n",
       "      <td>Irish</td>\n",
       "      <td>262965</td>\n",
       "      <td>9.8</td>\n",
       "      <td>Parkdale-High Park</td>\n",
       "      <td>20.0</td>\n",
       "    </tr>\n",
       "    <tr>\n",
       "      <th>4</th>\n",
       "      <td>Scottish</td>\n",
       "      <td>256250</td>\n",
       "      <td>9.5</td>\n",
       "      <td>Beaches-East York</td>\n",
       "      <td>18.9</td>\n",
       "    </tr>\n",
       "    <tr>\n",
       "      <th>5</th>\n",
       "      <td>East Indian</td>\n",
       "      <td>202675</td>\n",
       "      <td>7.5</td>\n",
       "      <td>Etobicoke North</td>\n",
       "      <td>22.2</td>\n",
       "    </tr>\n",
       "    <tr>\n",
       "      <th>6</th>\n",
       "      <td>Italian</td>\n",
       "      <td>182495</td>\n",
       "      <td>6.8</td>\n",
       "      <td>Etobicoke Centre</td>\n",
       "      <td>15.1</td>\n",
       "    </tr>\n",
       "    <tr>\n",
       "      <th>7</th>\n",
       "      <td>Filipino</td>\n",
       "      <td>162605</td>\n",
       "      <td>6.0</td>\n",
       "      <td>York Centre</td>\n",
       "      <td>17.0</td>\n",
       "    </tr>\n",
       "    <tr>\n",
       "      <th>8</th>\n",
       "      <td>German</td>\n",
       "      <td>130900</td>\n",
       "      <td>4.9</td>\n",
       "      <td>Parkdale-High Park</td>\n",
       "      <td>9.8</td>\n",
       "    </tr>\n",
       "    <tr>\n",
       "      <th>9</th>\n",
       "      <td>French</td>\n",
       "      <td>122615</td>\n",
       "      <td>4.6</td>\n",
       "      <td>Parkdale-High Park</td>\n",
       "      <td>8.9</td>\n",
       "    </tr>\n",
       "    <tr>\n",
       "      <th>10</th>\n",
       "      <td>Polish</td>\n",
       "      <td>114530</td>\n",
       "      <td>4.3</td>\n",
       "      <td>Eglinton-Lawrence</td>\n",
       "      <td>12.0</td>\n",
       "    </tr>\n",
       "    <tr>\n",
       "      <th>11</th>\n",
       "      <td>Portuguese</td>\n",
       "      <td>100420</td>\n",
       "      <td>3.7</td>\n",
       "      <td>Davenport</td>\n",
       "      <td>22.7</td>\n",
       "    </tr>\n",
       "    <tr>\n",
       "      <th>12</th>\n",
       "      <td>Jamaican</td>\n",
       "      <td>90065</td>\n",
       "      <td>3.3</td>\n",
       "      <td>Humber River-Black Creek</td>\n",
       "      <td>8.5</td>\n",
       "    </tr>\n",
       "    <tr>\n",
       "      <th>13</th>\n",
       "      <td>Russian</td>\n",
       "      <td>74465</td>\n",
       "      <td>2.8</td>\n",
       "      <td>York Centre</td>\n",
       "      <td>9.5</td>\n",
       "    </tr>\n",
       "    <tr>\n",
       "      <th>14</th>\n",
       "      <td>Ukrainian</td>\n",
       "      <td>72340</td>\n",
       "      <td>2.7</td>\n",
       "      <td>Etobicoke Centre</td>\n",
       "      <td>8.1</td>\n",
       "    </tr>\n",
       "    <tr>\n",
       "      <th>15</th>\n",
       "      <td>Sri Lankan</td>\n",
       "      <td>58180</td>\n",
       "      <td>2.2</td>\n",
       "      <td>Scarborough-Rouge Park</td>\n",
       "      <td>11.1</td>\n",
       "    </tr>\n",
       "    <tr>\n",
       "      <th>16</th>\n",
       "      <td>Greek</td>\n",
       "      <td>57425</td>\n",
       "      <td>2.1</td>\n",
       "      <td>Toronto-Danforth</td>\n",
       "      <td>7.3</td>\n",
       "    </tr>\n",
       "    <tr>\n",
       "      <th>17</th>\n",
       "      <td>Spanish</td>\n",
       "      <td>56815</td>\n",
       "      <td>2.1</td>\n",
       "      <td></td>\n",
       "      <td>&lt; 5.0</td>\n",
       "    </tr>\n",
       "    <tr>\n",
       "      <th>18</th>\n",
       "      <td>British Isles origins (other)</td>\n",
       "      <td>52900</td>\n",
       "      <td>2.0</td>\n",
       "      <td></td>\n",
       "      <td>&lt; 5.0</td>\n",
       "    </tr>\n",
       "    <tr>\n",
       "      <th>19</th>\n",
       "      <td>Iranian</td>\n",
       "      <td>45540</td>\n",
       "      <td>1.7</td>\n",
       "      <td>Willowdale</td>\n",
       "      <td>12.1</td>\n",
       "    </tr>\n",
       "  </tbody>\n",
       "</table>\n",
       "</div>"
      ],
      "text/plain": [
       "                           Ethnic Population  Percentage  \\\n",
       "0                         Chinese     332830        12.5   \n",
       "1                         English     331890        12.3   \n",
       "2                        Canadian     323175        12.0   \n",
       "3                           Irish     262965         9.8   \n",
       "4                        Scottish     256250         9.5   \n",
       "5                     East Indian     202675         7.5   \n",
       "6                         Italian     182495         6.8   \n",
       "7                        Filipino     162605         6.0   \n",
       "8                          German     130900         4.9   \n",
       "9                          French     122615         4.6   \n",
       "10                         Polish     114530         4.3   \n",
       "11                     Portuguese     100420         3.7   \n",
       "12                       Jamaican      90065         3.3   \n",
       "13                        Russian      74465         2.8   \n",
       "14                      Ukrainian      72340         2.7   \n",
       "15                     Sri Lankan      58180         2.2   \n",
       "16                          Greek      57425         2.1   \n",
       "17                        Spanish      56815         2.1   \n",
       "18  British Isles origins (other)      52900         2.0   \n",
       "19                        Iranian      45540         1.7   \n",
       "\n",
       "                     Borough Borough_percent  \n",
       "0      Scarborough-Agincourt            47.0  \n",
       "1          Beaches-East York            24.2  \n",
       "2          Beaches-East York            19.7  \n",
       "3         Parkdale-High Park            20.0  \n",
       "4          Beaches-East York            18.9  \n",
       "5            Etobicoke North            22.2  \n",
       "6           Etobicoke Centre            15.1  \n",
       "7                York Centre            17.0  \n",
       "8         Parkdale-High Park             9.8  \n",
       "9         Parkdale-High Park             8.9  \n",
       "10         Eglinton-Lawrence            12.0  \n",
       "11                 Davenport            22.7  \n",
       "12  Humber River-Black Creek             8.5  \n",
       "13               York Centre             9.5  \n",
       "14          Etobicoke Centre             8.1  \n",
       "15    Scarborough-Rouge Park            11.1  \n",
       "16          Toronto-Danforth             7.3  \n",
       "17                                     < 5.0  \n",
       "18                                     < 5.0  \n",
       "19                Willowdale            12.1  "
      ]
     },
     "execution_count": 13,
     "metadata": {},
     "output_type": "execute_result"
    }
   ],
   "source": [
    "pop_data.columns = pop_data.columns.str.replace(' ', '')\n",
    "pop_data.columns = pop_data.columns.str.replace('\\'','')\n",
    "\n",
    "# standrard\n",
    "pop_data['Ethnic']=pop_data['Ethnic'].replace(to_replace='\\n', value='', regex=True)\n",
    "pop_data['Population']=pop_data['Population'].replace(to_replace='\\n', value='', regex=True)\n",
    "pop_data['Percentage']=pop_data['Percentage'].replace(to_replace='\\n', value='', regex=True)\n",
    "pop_data['Borough']=pop_data['Borough'].replace(to_replace='\\n', value='', regex=True)\n",
    "pop_data['Borough_percent']=pop_data['Borough_percent'].replace(to_replace='\\n', value='', regex=True)\n",
    "pop_data['Population']=pop_data['Population'].replace(to_replace=',', value='', regex=True)\n",
    "pop_data.head(20)"
   ]
  },
  {
   "cell_type": "code",
   "execution_count": 14,
   "metadata": {
    "scrolled": true
   },
   "outputs": [],
   "source": [
    "#convert type of Population for coding easily\n",
    "pop_data['Population']=pop_data['Population'].astype(np.float64)"
   ]
  },
  {
   "cell_type": "markdown",
   "metadata": {},
   "source": [
    "To clean some data that is not necessary for the problems"
   ]
  },
  {
   "cell_type": "code",
   "execution_count": 15,
   "metadata": {
    "scrolled": true
   },
   "outputs": [
    {
     "data": {
      "text/html": [
       "<div>\n",
       "<style scoped>\n",
       "    .dataframe tbody tr th:only-of-type {\n",
       "        vertical-align: middle;\n",
       "    }\n",
       "\n",
       "    .dataframe tbody tr th {\n",
       "        vertical-align: top;\n",
       "    }\n",
       "\n",
       "    .dataframe thead th {\n",
       "        text-align: right;\n",
       "    }\n",
       "</style>\n",
       "<table border=\"1\" class=\"dataframe\">\n",
       "  <thead>\n",
       "    <tr style=\"text-align: right;\">\n",
       "      <th></th>\n",
       "      <th>Borough</th>\n",
       "      <th>Population</th>\n",
       "      <th>Borough1</th>\n",
       "      <th>Borough2</th>\n",
       "      <th>Lat</th>\n",
       "      <th>Lng</th>\n",
       "    </tr>\n",
       "  </thead>\n",
       "  <tbody>\n",
       "    <tr>\n",
       "      <th>0</th>\n",
       "      <td>Beaches-East York</td>\n",
       "      <td>911315.0</td>\n",
       "      <td>Beaches</td>\n",
       "      <td>East York</td>\n",
       "      <td>NaN</td>\n",
       "      <td>NaN</td>\n",
       "    </tr>\n",
       "    <tr>\n",
       "      <th>1</th>\n",
       "      <td>Davenport</td>\n",
       "      <td>100420.0</td>\n",
       "      <td>Davenport</td>\n",
       "      <td>Davenport</td>\n",
       "      <td>NaN</td>\n",
       "      <td>NaN</td>\n",
       "    </tr>\n",
       "    <tr>\n",
       "      <th>2</th>\n",
       "      <td>Eglinton-Lawrence</td>\n",
       "      <td>114530.0</td>\n",
       "      <td>Eglinton</td>\n",
       "      <td>Lawrence</td>\n",
       "      <td>NaN</td>\n",
       "      <td>NaN</td>\n",
       "    </tr>\n",
       "    <tr>\n",
       "      <th>3</th>\n",
       "      <td>Etobicoke Centre</td>\n",
       "      <td>254835.0</td>\n",
       "      <td>Etobicoke Centre</td>\n",
       "      <td>Etobicoke Centre</td>\n",
       "      <td>NaN</td>\n",
       "      <td>NaN</td>\n",
       "    </tr>\n",
       "    <tr>\n",
       "      <th>4</th>\n",
       "      <td>Etobicoke North</td>\n",
       "      <td>202675.0</td>\n",
       "      <td>Etobicoke North</td>\n",
       "      <td>Etobicoke North</td>\n",
       "      <td>NaN</td>\n",
       "      <td>NaN</td>\n",
       "    </tr>\n",
       "    <tr>\n",
       "      <th>5</th>\n",
       "      <td>Humber River-Black Creek</td>\n",
       "      <td>90065.0</td>\n",
       "      <td>Humber River</td>\n",
       "      <td>Black Creek</td>\n",
       "      <td>NaN</td>\n",
       "      <td>NaN</td>\n",
       "    </tr>\n",
       "    <tr>\n",
       "      <th>6</th>\n",
       "      <td>Parkdale-High Park</td>\n",
       "      <td>516480.0</td>\n",
       "      <td>Parkdale</td>\n",
       "      <td>High Park</td>\n",
       "      <td>NaN</td>\n",
       "      <td>NaN</td>\n",
       "    </tr>\n",
       "    <tr>\n",
       "      <th>7</th>\n",
       "      <td>Scarborough-Agincourt</td>\n",
       "      <td>332830.0</td>\n",
       "      <td>Scarborough</td>\n",
       "      <td>Agincourt</td>\n",
       "      <td>NaN</td>\n",
       "      <td>NaN</td>\n",
       "    </tr>\n",
       "    <tr>\n",
       "      <th>8</th>\n",
       "      <td>Scarborough-Rouge Park</td>\n",
       "      <td>58180.0</td>\n",
       "      <td>Scarborough</td>\n",
       "      <td>Rouge Park</td>\n",
       "      <td>NaN</td>\n",
       "      <td>NaN</td>\n",
       "    </tr>\n",
       "    <tr>\n",
       "      <th>9</th>\n",
       "      <td>Toronto-Danforth</td>\n",
       "      <td>57425.0</td>\n",
       "      <td>Toronto</td>\n",
       "      <td>Danforth</td>\n",
       "      <td>NaN</td>\n",
       "      <td>NaN</td>\n",
       "    </tr>\n",
       "    <tr>\n",
       "      <th>10</th>\n",
       "      <td>Willowdale</td>\n",
       "      <td>45540.0</td>\n",
       "      <td>Willowdale</td>\n",
       "      <td>Willowdale</td>\n",
       "      <td>NaN</td>\n",
       "      <td>NaN</td>\n",
       "    </tr>\n",
       "    <tr>\n",
       "      <th>11</th>\n",
       "      <td>York Centre</td>\n",
       "      <td>237070.0</td>\n",
       "      <td>York Centre</td>\n",
       "      <td>York Centre</td>\n",
       "      <td>NaN</td>\n",
       "      <td>NaN</td>\n",
       "    </tr>\n",
       "  </tbody>\n",
       "</table>\n",
       "</div>"
      ],
      "text/plain": [
       "                     Borough  Population          Borough1          Borough2  \\\n",
       "0          Beaches-East York    911315.0           Beaches         East York   \n",
       "1                  Davenport    100420.0         Davenport         Davenport   \n",
       "2          Eglinton-Lawrence    114530.0          Eglinton          Lawrence   \n",
       "3           Etobicoke Centre    254835.0  Etobicoke Centre  Etobicoke Centre   \n",
       "4            Etobicoke North    202675.0   Etobicoke North   Etobicoke North   \n",
       "5   Humber River-Black Creek     90065.0      Humber River       Black Creek   \n",
       "6         Parkdale-High Park    516480.0          Parkdale         High Park   \n",
       "7      Scarborough-Agincourt    332830.0       Scarborough         Agincourt   \n",
       "8     Scarborough-Rouge Park     58180.0       Scarborough        Rouge Park   \n",
       "9           Toronto-Danforth     57425.0           Toronto          Danforth   \n",
       "10                Willowdale     45540.0        Willowdale        Willowdale   \n",
       "11               York Centre    237070.0       York Centre       York Centre   \n",
       "\n",
       "    Lat  Lng  \n",
       "0   NaN  NaN  \n",
       "1   NaN  NaN  \n",
       "2   NaN  NaN  \n",
       "3   NaN  NaN  \n",
       "4   NaN  NaN  \n",
       "5   NaN  NaN  \n",
       "6   NaN  NaN  \n",
       "7   NaN  NaN  \n",
       "8   NaN  NaN  \n",
       "9   NaN  NaN  \n",
       "10  NaN  NaN  \n",
       "11  NaN  NaN  "
      ]
     },
     "execution_count": 15,
     "metadata": {},
     "output_type": "execute_result"
    }
   ],
   "source": [
    "# create a copy to avoid reference\n",
    "pop_data_clean=pop_data.copy() \n",
    "pop_data_clean.drop(['Ethnic','Percentage','Borough_percent'],axis=1,inplace=True) #drop columns that are not essential\n",
    "pop_data_clean=pop_data_clean[pop_data_clean['Borough']!=''] #drop rows that there is no data of population\n",
    "pop_data_clean_ok=pop_data_clean.groupby('Borough').sum().reset_index() \n",
    "\n",
    "# split name into borough and neibourhood and standard\n",
    "pop_data_clean_ok[['Borough1','Borough2']] = pop_data_clean_ok.Borough.str.split(\"-\",expand=True) \n",
    "pop_data_clean_ok['Borough2'] = np.where(pop_data_clean_ok['Borough2'].isnull(),pop_data_clean_ok['Borough1'],pop_data_clean_ok['Borough2'])\n",
    "# assign lat,lng is np.nan to process later\n",
    "pop_data_clean_ok['Lat']=np.nan\n",
    "pop_data_clean_ok['Lng']=np.nan\n",
    "# show data to see visually\n",
    "pop_data_clean_ok.head(20)"
   ]
  },
  {
   "cell_type": "markdown",
   "metadata": {},
   "source": [
    "Start steps to conbine all of downloaded above datasets to create good datasets consists: lat,lng,population for data analysis"
   ]
  },
  {
   "cell_type": "code",
   "execution_count": 24,
   "metadata": {},
   "outputs": [],
   "source": [
    "#function to combine lat,lng between datasets\n",
    "#create function to filter to fill by keyword is location keywords\n",
    "def getLatLngOffline(x):\n",
    "    address1=x[2]\n",
    "    address2=x[3]\n",
    "    #print('Get lat,lng of address ',address)\n",
    "    #print('Compare in ',lst_borough)\n",
    "    #print('Is need to compare ',np.isnan(x[0]))\n",
    "    if np.isnan(x[0]):\n",
    "        #for str1 in lst_borough:\n",
    "        df=toronto_data.loc[toronto_data['Neighborhood'].str.contains(address1) & toronto_data['Neighborhood'].str.contains(address2)]\n",
    "        if( df.shape[0]>0):\n",
    "            df.reset_index(inplace=True)\n",
    "            print('Found lat,lng:',address1)\n",
    "            return pd.Series([df.loc[0,'Latitude'],df.loc[0,'Longitude']])\n",
    "        '''else:\n",
    "            df=toronto_data.loc[toronto_data['Neighborhood'].str.contains(address1)]\n",
    "            if( df.shape[0]>0):\n",
    "                df.reset_index(inplace=True)\n",
    "                print('Found lat,lng:',address1)\n",
    "                return pd.Series([df.loc[0,'Latitude'],df.loc[0,'Longitude']])\n",
    "        '''\n",
    "    return pd.Series([x[0],x[1]])"
   ]
  },
  {
   "cell_type": "markdown",
   "metadata": {},
   "source": [
    "Call code to combine lat,lng"
   ]
  },
  {
   "cell_type": "code",
   "execution_count": 25,
   "metadata": {},
   "outputs": [
    {
     "data": {
      "text/html": [
       "<div>\n",
       "<style scoped>\n",
       "    .dataframe tbody tr th:only-of-type {\n",
       "        vertical-align: middle;\n",
       "    }\n",
       "\n",
       "    .dataframe tbody tr th {\n",
       "        vertical-align: top;\n",
       "    }\n",
       "\n",
       "    .dataframe thead th {\n",
       "        text-align: right;\n",
       "    }\n",
       "</style>\n",
       "<table border=\"1\" class=\"dataframe\">\n",
       "  <thead>\n",
       "    <tr style=\"text-align: right;\">\n",
       "      <th></th>\n",
       "      <th>Borough</th>\n",
       "      <th>Population</th>\n",
       "      <th>Borough1</th>\n",
       "      <th>Borough2</th>\n",
       "      <th>Lat</th>\n",
       "      <th>Lng</th>\n",
       "    </tr>\n",
       "  </thead>\n",
       "  <tbody>\n",
       "    <tr>\n",
       "      <th>0</th>\n",
       "      <td>Beaches-East York</td>\n",
       "      <td>911315.0</td>\n",
       "      <td>Beaches</td>\n",
       "      <td>East York</td>\n",
       "      <td>43.676357</td>\n",
       "      <td>-79.293031</td>\n",
       "    </tr>\n",
       "    <tr>\n",
       "      <th>1</th>\n",
       "      <td>Davenport</td>\n",
       "      <td>100420.0</td>\n",
       "      <td>Davenport</td>\n",
       "      <td>Davenport</td>\n",
       "      <td>NaN</td>\n",
       "      <td>NaN</td>\n",
       "    </tr>\n",
       "    <tr>\n",
       "      <th>2</th>\n",
       "      <td>Eglinton-Lawrence</td>\n",
       "      <td>114530.0</td>\n",
       "      <td>Eglinton</td>\n",
       "      <td>Lawrence</td>\n",
       "      <td>NaN</td>\n",
       "      <td>NaN</td>\n",
       "    </tr>\n",
       "    <tr>\n",
       "      <th>3</th>\n",
       "      <td>Etobicoke Centre</td>\n",
       "      <td>254835.0</td>\n",
       "      <td>Etobicoke Centre</td>\n",
       "      <td>Etobicoke Centre</td>\n",
       "      <td>NaN</td>\n",
       "      <td>NaN</td>\n",
       "    </tr>\n",
       "    <tr>\n",
       "      <th>4</th>\n",
       "      <td>Etobicoke North</td>\n",
       "      <td>202675.0</td>\n",
       "      <td>Etobicoke North</td>\n",
       "      <td>Etobicoke North</td>\n",
       "      <td>NaN</td>\n",
       "      <td>NaN</td>\n",
       "    </tr>\n",
       "  </tbody>\n",
       "</table>\n",
       "</div>"
      ],
      "text/plain": [
       "             Borough  Population          Borough1          Borough2  \\\n",
       "0  Beaches-East York    911315.0           Beaches         East York   \n",
       "1          Davenport    100420.0         Davenport         Davenport   \n",
       "2  Eglinton-Lawrence    114530.0          Eglinton          Lawrence   \n",
       "3   Etobicoke Centre    254835.0  Etobicoke Centre  Etobicoke Centre   \n",
       "4    Etobicoke North    202675.0   Etobicoke North   Etobicoke North   \n",
       "\n",
       "         Lat        Lng  \n",
       "0  43.676357 -79.293031  \n",
       "1        NaN        NaN  \n",
       "2        NaN        NaN  \n",
       "3        NaN        NaN  \n",
       "4        NaN        NaN  "
      ]
     },
     "execution_count": 25,
     "metadata": {},
     "output_type": "execute_result"
    }
   ],
   "source": [
    "#iterate to set lat,lng for each rows in data-frame\n",
    "pop_data_clean_ok[['Lat','Lng']] = pop_data_clean_ok[['Lat','Lng','Borough1','Borough2']].apply(lambda x: getLatLngOffline(x), axis=1)\n",
    "pop_data_clean_ok.head()"
   ]
  },
  {
   "cell_type": "markdown",
   "metadata": {},
   "source": [
    "As we saw, because data that we downloaded aboved not completely full of lat,lng so we need make some api online to fill in lat,lng to missing values:"
   ]
  },
  {
   "cell_type": "code",
   "execution_count": 26,
   "metadata": {},
   "outputs": [],
   "source": [
    "#create function to get online for columns lat, lng in data frame is no available\n",
    "def getLatLngOnline(x):\n",
    "    if np.isnan(x[1]):\n",
    "        address=x[0]\n",
    "        #address = 'Scarborough-Agincourt,Toronto, ON, Canada'\n",
    "        geolocator = Nominatim(user_agent=\"to_explorer\")\n",
    "        location = geolocator.geocode(address)\n",
    "        latitude = location.latitude\n",
    "        longitude = location.longitude\n",
    "        print('The geograpical coordinate of {}, Canada are {}, {}.'.format(address,latitude, longitude))\n",
    "        return pd.Series([location.latitude,location.longitude])\n",
    "    return pd.Series([x[1],x[2]]) "
   ]
  },
  {
   "cell_type": "markdown",
   "metadata": {},
   "source": [
    "Call function to get lat,lng to fill-in lat,lng for each row of data-frame"
   ]
  },
  {
   "cell_type": "code",
   "execution_count": 27,
   "metadata": {
    "scrolled": true
   },
   "outputs": [
    {
     "name": "stdout",
     "output_type": "stream",
     "text": [
      "The geograpical coordinate of Davenport, Canada are 41.5236436, -90.5776368.\n",
      "The geograpical coordinate of Eglinton-Lawrence, Canada are 43.7192647, -79.429765.\n",
      "The geograpical coordinate of Etobicoke Centre, Canada are 43.6798327, -79.5389927.\n",
      "The geograpical coordinate of Etobicoke North, Canada are 43.7410925, -79.5892249.\n",
      "The geograpical coordinate of Humber River-Black Creek, Canada are 43.7337368, -79.5382285.\n",
      "The geograpical coordinate of York Centre, Canada are 43.750241, -79.463352.\n"
     ]
    },
    {
     "data": {
      "text/html": [
       "<div>\n",
       "<style scoped>\n",
       "    .dataframe tbody tr th:only-of-type {\n",
       "        vertical-align: middle;\n",
       "    }\n",
       "\n",
       "    .dataframe tbody tr th {\n",
       "        vertical-align: top;\n",
       "    }\n",
       "\n",
       "    .dataframe thead th {\n",
       "        text-align: right;\n",
       "    }\n",
       "</style>\n",
       "<table border=\"1\" class=\"dataframe\">\n",
       "  <thead>\n",
       "    <tr style=\"text-align: right;\">\n",
       "      <th></th>\n",
       "      <th>Borough</th>\n",
       "      <th>Population</th>\n",
       "      <th>Borough1</th>\n",
       "      <th>Borough2</th>\n",
       "      <th>Lat</th>\n",
       "      <th>Lng</th>\n",
       "    </tr>\n",
       "  </thead>\n",
       "  <tbody>\n",
       "    <tr>\n",
       "      <th>0</th>\n",
       "      <td>Beaches-East York</td>\n",
       "      <td>911315.0</td>\n",
       "      <td>Beaches</td>\n",
       "      <td>East York</td>\n",
       "      <td>43.676357</td>\n",
       "      <td>-79.293031</td>\n",
       "    </tr>\n",
       "    <tr>\n",
       "      <th>1</th>\n",
       "      <td>Davenport</td>\n",
       "      <td>100420.0</td>\n",
       "      <td>Davenport</td>\n",
       "      <td>Davenport</td>\n",
       "      <td>41.523644</td>\n",
       "      <td>-90.577637</td>\n",
       "    </tr>\n",
       "    <tr>\n",
       "      <th>2</th>\n",
       "      <td>Eglinton-Lawrence</td>\n",
       "      <td>114530.0</td>\n",
       "      <td>Eglinton</td>\n",
       "      <td>Lawrence</td>\n",
       "      <td>43.719265</td>\n",
       "      <td>-79.429765</td>\n",
       "    </tr>\n",
       "    <tr>\n",
       "      <th>3</th>\n",
       "      <td>Etobicoke Centre</td>\n",
       "      <td>254835.0</td>\n",
       "      <td>Etobicoke Centre</td>\n",
       "      <td>Etobicoke Centre</td>\n",
       "      <td>43.679833</td>\n",
       "      <td>-79.538993</td>\n",
       "    </tr>\n",
       "    <tr>\n",
       "      <th>4</th>\n",
       "      <td>Etobicoke North</td>\n",
       "      <td>202675.0</td>\n",
       "      <td>Etobicoke North</td>\n",
       "      <td>Etobicoke North</td>\n",
       "      <td>43.741093</td>\n",
       "      <td>-79.589225</td>\n",
       "    </tr>\n",
       "  </tbody>\n",
       "</table>\n",
       "</div>"
      ],
      "text/plain": [
       "             Borough  Population          Borough1          Borough2  \\\n",
       "0  Beaches-East York    911315.0           Beaches         East York   \n",
       "1          Davenport    100420.0         Davenport         Davenport   \n",
       "2  Eglinton-Lawrence    114530.0          Eglinton          Lawrence   \n",
       "3   Etobicoke Centre    254835.0  Etobicoke Centre  Etobicoke Centre   \n",
       "4    Etobicoke North    202675.0   Etobicoke North   Etobicoke North   \n",
       "\n",
       "         Lat        Lng  \n",
       "0  43.676357 -79.293031  \n",
       "1  41.523644 -90.577637  \n",
       "2  43.719265 -79.429765  \n",
       "3  43.679833 -79.538993  \n",
       "4  43.741093 -79.589225  "
      ]
     },
     "execution_count": 27,
     "metadata": {},
     "output_type": "execute_result"
    }
   ],
   "source": [
    "pop_data_clean_ok[['Lat','Lng']] = pop_data_clean_ok[['Borough','Lat','Lng']].apply(lambda x: getLatLngOnline(x), axis=1)\n",
    "pop_data_clean_ok.head()"
   ]
  },
  {
   "cell_type": "markdown",
   "metadata": {},
   "source": [
    "Prepare some data for data analysis"
   ]
  },
  {
   "cell_type": "code",
   "execution_count": 29,
   "metadata": {},
   "outputs": [
    {
     "name": "stdout",
     "output_type": "stream",
     "text": [
      "The geograpical coordinate of Beaches-East York, Canada are 43.67635739999999, -79.2930312.\n"
     ]
    }
   ],
   "source": [
    "#Create copy data to avoid reference\n",
    "pop_data_ready=pop_data_clean_ok.copy()\n",
    "#### Prepare data for maps of center visualization \n",
    "address = pop_data_ready.loc[0,'Borough']\n",
    "latitude = pop_data_ready.loc[0,'Lat']\n",
    "longitude = pop_data_ready.loc[0,'Lng']\n",
    "print('The geograpical coordinate of {}, Canada are {}, {}.'.format(address,latitude, longitude))"
   ]
  },
  {
   "cell_type": "markdown",
   "metadata": {},
   "source": [
    "#### 1.3. we are going to explore all of current restauntants in these locations in the Toronto by using Foursquare API"
   ]
  },
  {
   "cell_type": "markdown",
   "metadata": {},
   "source": [
    "Define Foursquare Credentials and Version"
   ]
  },
  {
   "cell_type": "code",
   "execution_count": 38,
   "metadata": {},
   "outputs": [],
   "source": [
    "CLIENT_ID = 'JBREGZ4UNA53HX43WMAD4TQ2X2XJWMX5DPHEZEIZHQA0ACNP' # your Foursquare ID\n",
    "CLIENT_SECRET = 'VNS40KF3V4MGSWWAV0IGQINZIGIT1EQKNCWBFPOS3QF1JMOJ' # your Foursquare Secret\n",
    "VERSION = '20180605' # Foursquare API version\n",
    "categoryid='4d4b7105d754a06374d81259' # category is food restaurants according to description of url:https://developer.foursquare.com/docs/resources/categories\n",
    "LIMIT=200"
   ]
  },
  {
   "cell_type": "markdown",
   "metadata": {},
   "source": [
    "Now, let's get the explore current number of food restaurants within a radius of near borough in Toroton in meters."
   ]
  },
  {
   "cell_type": "code",
   "execution_count": 39,
   "metadata": {},
   "outputs": [],
   "source": [
    "# define function that extracts the category of the venue from return calling of FourSquare API\n",
    "def get_category_type(row):\n",
    "    try:\n",
    "        categories_list = row['categories']\n",
    "    except:\n",
    "        categories_list = row['venue.categories']\n",
    "        \n",
    "    if len(categories_list) == 0:\n",
    "        return None\n",
    "    else:\n",
    "        return categories_list[0]['name']"
   ]
  },
  {
   "cell_type": "markdown",
   "metadata": {},
   "source": [
    "Let's create a function to call and get list of restaurant for each locations."
   ]
  },
  {
   "cell_type": "code",
   "execution_count": 40,
   "metadata": {},
   "outputs": [],
   "source": [
    "def getNearbyRestaurants(names, latitudes, longitudes, radius=500):\n",
    "    \n",
    "    venues_list=[]\n",
    "    for name, lat, lng in zip(names, latitudes, longitudes):\n",
    "        #print(name)\n",
    "            \n",
    "        # create the API request URL\n",
    "        url = 'https://api.foursquare.com/v2/venues/search?categoryid={}&client_id={}&client_secret={}&v={}&ll={},{}&radius={}&limit={}'.format(categoryid,\n",
    "            CLIENT_ID, \n",
    "            CLIENT_SECRET, \n",
    "            VERSION, \n",
    "            lat, \n",
    "            lng, \n",
    "            radius, \n",
    "            LIMIT)\n",
    "            \n",
    "        # make the GET request\n",
    "        results = requests.get(url).json()[\"response\"]['venues']\n",
    "        #print('call to ',url)\n",
    "        # return only relevant information for each nearby venue\n",
    "        venues_list.append([(\n",
    "            name, \n",
    "            lat, \n",
    "            lng, \n",
    "            v['name'], \n",
    "            v['location']['lat'], \n",
    "            v['location']['lng'],  \n",
    "            v['categories'][0]['name']) for v in results if len(v['categories'])>0 ])\n",
    "\n",
    "    nearby_restaurant = pd.DataFrame([item for venue_list in venues_list for item in venue_list])\n",
    "    return(nearby_restaurant)"
   ]
  },
  {
   "cell_type": "markdown",
   "metadata": {},
   "source": [
    "Now write the code to run the above function on each locations "
   ]
  },
  {
   "cell_type": "code",
   "execution_count": 41,
   "metadata": {
    "scrolled": true
   },
   "outputs": [
    {
     "name": "stdout",
     "output_type": "stream",
     "text": [
      "Loading data....\n",
      "Loaded data completely....\n"
     ]
    }
   ],
   "source": [
    "#call to API Squares to get information of restaurants in each location\n",
    "print('Loading data....')\n",
    "toronto_restaurants = getNearbyRestaurants(names=pop_data_ready['Borough'],\n",
    "                                   latitudes=pop_data_ready['Lat'],\n",
    "                                   longitudes=pop_data_ready['Lng'])\n",
    "print('Loaded data completely....')\n"
   ]
  },
  {
   "cell_type": "markdown",
   "metadata": {},
   "source": [
    "Let's check and see the size of the result of above dataframe "
   ]
  },
  {
   "cell_type": "code",
   "execution_count": 42,
   "metadata": {},
   "outputs": [
    {
     "name": "stdout",
     "output_type": "stream",
     "text": [
      "(1217, 7)\n"
     ]
    },
    {
     "data": {
      "text/html": [
       "<div>\n",
       "<style scoped>\n",
       "    .dataframe tbody tr th:only-of-type {\n",
       "        vertical-align: middle;\n",
       "    }\n",
       "\n",
       "    .dataframe tbody tr th {\n",
       "        vertical-align: top;\n",
       "    }\n",
       "\n",
       "    .dataframe thead th {\n",
       "        text-align: right;\n",
       "    }\n",
       "</style>\n",
       "<table border=\"1\" class=\"dataframe\">\n",
       "  <thead>\n",
       "    <tr style=\"text-align: right;\">\n",
       "      <th></th>\n",
       "      <th>Neighborhood</th>\n",
       "      <th>Latitude</th>\n",
       "      <th>Longitude</th>\n",
       "      <th>Restaurant</th>\n",
       "      <th>Restaurant_Latitude</th>\n",
       "      <th>Restaurant_Longitude</th>\n",
       "      <th>Restaurant_Category</th>\n",
       "    </tr>\n",
       "  </thead>\n",
       "  <tbody>\n",
       "    <tr>\n",
       "      <th>0</th>\n",
       "      <td>Beaches-East York</td>\n",
       "      <td>43.676357</td>\n",
       "      <td>-79.293031</td>\n",
       "      <td>Glen Stewart Ravine</td>\n",
       "      <td>43.676300</td>\n",
       "      <td>-79.294784</td>\n",
       "      <td>Other Great Outdoors</td>\n",
       "    </tr>\n",
       "    <tr>\n",
       "      <th>1</th>\n",
       "      <td>Beaches-East York</td>\n",
       "      <td>43.676357</td>\n",
       "      <td>-79.293031</td>\n",
       "      <td>Glen Manor Ravine</td>\n",
       "      <td>43.676821</td>\n",
       "      <td>-79.293942</td>\n",
       "      <td>Trail</td>\n",
       "    </tr>\n",
       "    <tr>\n",
       "      <th>2</th>\n",
       "      <td>Beaches-East York</td>\n",
       "      <td>43.676357</td>\n",
       "      <td>-79.293031</td>\n",
       "      <td>Glen Stewart Park</td>\n",
       "      <td>43.675278</td>\n",
       "      <td>-79.294647</td>\n",
       "      <td>Park</td>\n",
       "    </tr>\n",
       "    <tr>\n",
       "      <th>3</th>\n",
       "      <td>Beaches-East York</td>\n",
       "      <td>43.676357</td>\n",
       "      <td>-79.293031</td>\n",
       "      <td>Grover Pub and Grub</td>\n",
       "      <td>43.679181</td>\n",
       "      <td>-79.297215</td>\n",
       "      <td>Pub</td>\n",
       "    </tr>\n",
       "    <tr>\n",
       "      <th>4</th>\n",
       "      <td>Beaches-East York</td>\n",
       "      <td>43.676357</td>\n",
       "      <td>-79.293031</td>\n",
       "      <td>Beaches BJJ</td>\n",
       "      <td>43.672703</td>\n",
       "      <td>-79.289013</td>\n",
       "      <td>Martial Arts Dojo</td>\n",
       "    </tr>\n",
       "  </tbody>\n",
       "</table>\n",
       "</div>"
      ],
      "text/plain": [
       "        Neighborhood   Latitude  Longitude           Restaurant  \\\n",
       "0  Beaches-East York  43.676357 -79.293031  Glen Stewart Ravine   \n",
       "1  Beaches-East York  43.676357 -79.293031    Glen Manor Ravine   \n",
       "2  Beaches-East York  43.676357 -79.293031    Glen Stewart Park   \n",
       "3  Beaches-East York  43.676357 -79.293031  Grover Pub and Grub   \n",
       "4  Beaches-East York  43.676357 -79.293031          Beaches BJJ   \n",
       "\n",
       "   Restaurant_Latitude  Restaurant_Longitude   Restaurant_Category  \n",
       "0            43.676300            -79.294784  Other Great Outdoors  \n",
       "1            43.676821            -79.293942                 Trail  \n",
       "2            43.675278            -79.294647                  Park  \n",
       "3            43.679181            -79.297215                   Pub  \n",
       "4            43.672703            -79.289013     Martial Arts Dojo  "
      ]
     },
     "execution_count": 42,
     "metadata": {},
     "output_type": "execute_result"
    }
   ],
   "source": [
    "print(toronto_restaurants.shape)\n",
    "toronto_restaurants.columns = ['Neighborhood', \n",
    "                  'Latitude', \n",
    "                  'Longitude', \n",
    "                  'Restaurant', \n",
    "                  'Restaurant_Latitude', \n",
    "                  'Restaurant_Longitude', \n",
    "                  'Restaurant_Category']    \n",
    "toronto_restaurants.head()"
   ]
  },
  {
   "cell_type": "markdown",
   "metadata": {},
   "source": [
    "Let's check how many category of restaurant were returned for each location"
   ]
  },
  {
   "cell_type": "code",
   "execution_count": 44,
   "metadata": {
    "scrolled": true
   },
   "outputs": [
    {
     "data": {
      "text/plain": [
       "array(['Other Great Outdoors', 'Trail', 'Park', 'Pub',\n",
       "       'Martial Arts Dojo', 'Bakery', 'Coffee Shop',\n",
       "       'Vegetarian / Vegan Restaurant', 'Gym / Fitness Center', 'Lounge',\n",
       "       'Playground', 'Spa', 'Residential Building (Apartment / Condo)',\n",
       "       'Speakeasy', 'Housing Development', 'Flower Shop', 'Nail Salon',\n",
       "       'Student Center', 'Music Venue', 'Tech Startup', 'Bridge',\n",
       "       'Furniture / Home Store', 'Miscellaneous Shop', 'Baby Store',\n",
       "       'Mobile Phone Shop', 'School', \"Women's Store\", 'Laundry Service',\n",
       "       'Building', 'Jewelry Store', 'Government Building', 'Bus Stop',\n",
       "       'Salon / Barbershop', 'Office', 'Wine Shop', 'Dance Studio',\n",
       "       'General College & University', 'Convenience Store',\n",
       "       \"Doctor's Office\", 'Art Gallery', 'Gastropub', 'Nursery School',\n",
       "       'Middle School', 'Asian Restaurant', 'Lawyer', 'Grocery Store',\n",
       "       'Church', 'BBQ Joint', 'Food Truck', 'Tea Room', 'Burger Joint',\n",
       "       'Bus Station', 'Moving Target', 'Bike Shop', 'College Gym',\n",
       "       'Pilates Studio', 'Shipping Store', 'Rental Car Location',\n",
       "       'Breakfast Spot', 'Hardware Store', 'Parking', 'Bank',\n",
       "       'Health & Beauty Service', 'Boutique', 'Assisted Living',\n",
       "       'Recreation Center', 'Restaurant', 'French Restaurant',\n",
       "       'Frame Store', 'Pet Store', 'Market', 'Elementary School',\n",
       "       'Construction & Landscaping', 'Pet Service', 'Massage Studio',\n",
       "       'Pizza Place', 'Police Station', 'Bus Line', 'City Hall', 'Hotel',\n",
       "       'Nightclub', 'Business Service', 'Tattoo Parlor',\n",
       "       'Automotive Shop', 'Deli / Bodega', 'Medical School',\n",
       "       'Community College', 'Bookstore', 'Nightlife Spot',\n",
       "       'College Administrative Building', 'Mountain', 'Chiropractor',\n",
       "       'Photography Lab', 'College Academic Building', 'Print Shop',\n",
       "       'Optical Shop', 'Financial or Legal Service', 'Gas Station',\n",
       "       'Pharmacy', 'Shopping Mall', 'Supermarket', 'Medical Center',\n",
       "       'Department Store', \"Dentist's Office\", 'Bagel Shop',\n",
       "       'Filipino Restaurant', 'Shop & Service',\n",
       "       'Eastern European Restaurant', 'Middle Eastern Restaurant',\n",
       "       'Diner', 'Sushi Restaurant', 'Shoe Store', 'Photography Studio',\n",
       "       'Liquor Store', 'Thai Restaurant', 'Library', 'Kids Store', 'Café',\n",
       "       'Ice Cream Shop', 'Medical Lab', 'Kosher Restaurant', 'Casino',\n",
       "       'Electronics Store', 'Animal Shelter', 'Hookah Bar', 'Hospital',\n",
       "       'General Entertainment', 'Cosmetics Shop', 'Synagogue',\n",
       "       'High School', 'Fire Station', 'Golf Course', 'Intersection',\n",
       "       'Beer Store', 'Bar', 'Pool', 'Professional & Other Places',\n",
       "       'Non-Profit', 'Winery', 'Gym', 'Outdoors & Recreation',\n",
       "       'Post Office', 'Karaoke Bar', 'Strip Club', 'Conference Room',\n",
       "       'Lingerie Store', 'Skating Rink', 'Tennis Court', 'Sandwich Place',\n",
       "       'Travel & Transport', 'Hockey Rink', 'Baseball Field',\n",
       "       'Italian Restaurant', 'Juice Bar', 'Shoe Repair', 'Travel Agency',\n",
       "       'Caribbean Restaurant', 'Movie Theater', 'Farm',\n",
       "       'Mediterranean Restaurant', 'Field', 'Afghan Restaurant',\n",
       "       'Discount Store', 'Clothing Store', 'Spiritual Center',\n",
       "       'College Cafeteria', 'Campground', 'Indian Restaurant', 'Garden',\n",
       "       'Japanese Restaurant', 'Fried Chicken Joint', 'Community Center',\n",
       "       'Arts & Entertainment', 'Hindu Temple',\n",
       "       'Latin American Restaurant', 'Mosque', 'African Restaurant',\n",
       "       'Dog Run', 'Factory', 'Paper / Office Supplies Store', 'Temple',\n",
       "       'Sikh Temple', 'Car Wash', 'Butcher', 'Coworking Space', 'Theater',\n",
       "       'Fish & Chips Shop', 'Fast Food Restaurant', 'Advertising Agency',\n",
       "       'Beer Garden', 'Water Park', 'Dive Bar', 'Cocktail Bar',\n",
       "       'Gaming Cafe', 'Antique Shop', 'Cafeteria', 'Physical Therapist',\n",
       "       'Train Station', 'Rock Club', 'Design Studio', 'Smoke Shop',\n",
       "       'Basketball Court', 'Laundromat', 'Chinese Restaurant',\n",
       "       'Storage Facility', 'Dessert Shop', 'Piano Bar', 'Metro Station',\n",
       "       'Sports Bar', 'Beer Bar', 'Trailer Park', 'Toy / Game Store',\n",
       "       'Taco Place', 'Accessories Store', 'Wings Joint',\n",
       "       'Dim Sum Restaurant', 'Greek Restaurant', \"Men's Store\",\n",
       "       'Fraternity House', 'Gay Bar', 'Bowling Alley',\n",
       "       'College Classroom', 'College Quad', 'Food Court',\n",
       "       'Athletics & Sports', 'Donut Shop', 'Food', 'Veterinarian',\n",
       "       'Gourmet Shop', 'American Restaurant', 'Korean Restaurant',\n",
       "       'Other Nightlife', 'Candy Store', 'Voting Booth', 'Art Studio',\n",
       "       'Currency Exchange', 'Falafel Restaurant', 'Bed & Breakfast',\n",
       "       'Ski Chalet', 'Seafood Restaurant', 'Sporting Goods Shop',\n",
       "       'Pool Hall', 'Other Event', 'Acupuncturist',\n",
       "       'Tourist Information Center', 'Dry Cleaner', 'Event Space',\n",
       "       'Military Base', 'Outdoor Supply Store', 'Auto Workshop',\n",
       "       'Trade School', 'IT Services', 'Gym Pool', 'Soccer Field',\n",
       "       'Arcade', 'Skate Park'], dtype=object)"
      ]
     },
     "execution_count": 44,
     "metadata": {},
     "output_type": "execute_result"
    }
   ],
   "source": [
    "category_restaurant=toronto_restaurants['Restaurant_Category'].unique()\n",
    "category_restaurant"
   ]
  },
  {
   "cell_type": "markdown",
   "metadata": {},
   "source": [
    "##### Data from API return a lot of categoríe which  company XYZ don't care because if quite large: including food and non-food restaurant,<br>\n",
    "Company XYZ JSC just caring for the kind of food restaurant so I will remove some information category that is not fit with the demand of Company XYZ JSC"
   ]
  },
  {
   "cell_type": "code",
   "execution_count": 45,
   "metadata": {},
   "outputs": [],
   "source": [
    "#define keywords filter\n",
    "def is_need_keep(list_str,item):\n",
    "    for str in list_str:\n",
    "        if str in item:\n",
    "            return True\n",
    "    return False"
   ]
  },
  {
   "cell_type": "code",
   "execution_count": 46,
   "metadata": {},
   "outputs": [
    {
     "data": {
      "text/plain": [
       "46"
      ]
     },
     "execution_count": 46,
     "metadata": {},
     "output_type": "execute_result"
    }
   ],
   "source": [
    "#define some keywords to filter off from result from FourSquare API Calling\n",
    "list_keyword_need_to_remove=['Repair','Service','School','Pet','Gym','Golf','Warehouse','Office','Nail','Pet','Pharmacy']\n",
    "category_restaurant_care=[item for item in category_restaurant if (is_need_keep(['Restaurant','Food','Coffee','Dessert','Café','Bakery','Bar','Cafeteria'],item)) ]\n",
    "len(category_restaurant_care)"
   ]
  },
  {
   "cell_type": "code",
   "execution_count": 48,
   "metadata": {},
   "outputs": [
    {
     "data": {
      "text/plain": [
       "46"
      ]
     },
     "execution_count": 48,
     "metadata": {},
     "output_type": "execute_result"
    }
   ],
   "source": [
    "#print all of unique category that company XYZ is caring for\n",
    "category_restaurant=toronto_restaurants['Restaurant_Category'].unique()\n",
    "len(category_restaurant_care)"
   ]
  },
  {
   "cell_type": "markdown",
   "metadata": {},
   "source": [
    "Let's find out how many correct restaurant can be collected in final data set"
   ]
  },
  {
   "cell_type": "code",
   "execution_count": 50,
   "metadata": {},
   "outputs": [
    {
     "data": {
      "text/html": [
       "<div>\n",
       "<style scoped>\n",
       "    .dataframe tbody tr th:only-of-type {\n",
       "        vertical-align: middle;\n",
       "    }\n",
       "\n",
       "    .dataframe tbody tr th {\n",
       "        vertical-align: top;\n",
       "    }\n",
       "\n",
       "    .dataframe thead th {\n",
       "        text-align: right;\n",
       "    }\n",
       "</style>\n",
       "<table border=\"1\" class=\"dataframe\">\n",
       "  <thead>\n",
       "    <tr style=\"text-align: right;\">\n",
       "      <th></th>\n",
       "      <th>Neighborhood</th>\n",
       "      <th>Latitude</th>\n",
       "      <th>Longitude</th>\n",
       "      <th>Restaurant</th>\n",
       "      <th>Restaurant_Latitude</th>\n",
       "      <th>Restaurant_Longitude</th>\n",
       "      <th>Restaurant_Category</th>\n",
       "      <th>Restaurant_Category_Remove</th>\n",
       "    </tr>\n",
       "  </thead>\n",
       "  <tbody>\n",
       "    <tr>\n",
       "      <th>5</th>\n",
       "      <td>Beaches-East York</td>\n",
       "      <td>43.676357</td>\n",
       "      <td>-79.293031</td>\n",
       "      <td>Naturalis</td>\n",
       "      <td>43.672194</td>\n",
       "      <td>-79.289732</td>\n",
       "      <td>Bakery</td>\n",
       "      <td>True</td>\n",
       "    </tr>\n",
       "    <tr>\n",
       "      <th>6</th>\n",
       "      <td>Beaches-East York</td>\n",
       "      <td>43.676357</td>\n",
       "      <td>-79.293031</td>\n",
       "      <td>Tim Hortons</td>\n",
       "      <td>43.678705</td>\n",
       "      <td>-79.298148</td>\n",
       "      <td>Coffee Shop</td>\n",
       "      <td>True</td>\n",
       "    </tr>\n",
       "    <tr>\n",
       "      <th>7</th>\n",
       "      <td>Beaches-East York</td>\n",
       "      <td>43.676357</td>\n",
       "      <td>-79.293031</td>\n",
       "      <td>Tori's Bakeshop</td>\n",
       "      <td>43.672114</td>\n",
       "      <td>-79.290331</td>\n",
       "      <td>Vegetarian / Vegan Restaurant</td>\n",
       "      <td>True</td>\n",
       "    </tr>\n",
       "    <tr>\n",
       "      <th>38</th>\n",
       "      <td>Beaches-East York</td>\n",
       "      <td>43.676357</td>\n",
       "      <td>-79.293031</td>\n",
       "      <td>Deb's Rainbow of Hair Design</td>\n",
       "      <td>43.680424</td>\n",
       "      <td>-79.290726</td>\n",
       "      <td>Salon / Barbershop</td>\n",
       "      <td>True</td>\n",
       "    </tr>\n",
       "    <tr>\n",
       "      <th>59</th>\n",
       "      <td>Beaches-East York</td>\n",
       "      <td>43.676357</td>\n",
       "      <td>-79.293031</td>\n",
       "      <td>Seaspray Restaurant</td>\n",
       "      <td>43.678888</td>\n",
       "      <td>-79.298167</td>\n",
       "      <td>Asian Restaurant</td>\n",
       "      <td>True</td>\n",
       "    </tr>\n",
       "  </tbody>\n",
       "</table>\n",
       "</div>"
      ],
      "text/plain": [
       "         Neighborhood   Latitude  Longitude                    Restaurant  \\\n",
       "5   Beaches-East York  43.676357 -79.293031                     Naturalis   \n",
       "6   Beaches-East York  43.676357 -79.293031                   Tim Hortons   \n",
       "7   Beaches-East York  43.676357 -79.293031               Tori's Bakeshop   \n",
       "38  Beaches-East York  43.676357 -79.293031  Deb's Rainbow of Hair Design   \n",
       "59  Beaches-East York  43.676357 -79.293031           Seaspray Restaurant   \n",
       "\n",
       "    Restaurant_Latitude  Restaurant_Longitude            Restaurant_Category  \\\n",
       "5             43.672194            -79.289732                         Bakery   \n",
       "6             43.678705            -79.298148                    Coffee Shop   \n",
       "7             43.672114            -79.290331  Vegetarian / Vegan Restaurant   \n",
       "38            43.680424            -79.290726             Salon / Barbershop   \n",
       "59            43.678888            -79.298167               Asian Restaurant   \n",
       "\n",
       "   Restaurant_Category_Remove  \n",
       "5                        True  \n",
       "6                        True  \n",
       "7                        True  \n",
       "38                       True  \n",
       "59                       True  "
      ]
     },
     "execution_count": 50,
     "metadata": {},
     "output_type": "execute_result"
    }
   ],
   "source": [
    "toronto_restaurants_care=toronto_restaurants.copy()\n",
    "toronto_restaurants_care['Restaurant_Category_Remove'] =toronto_restaurants_care['Restaurant_Category'].apply(lambda x: 'True' if x in category_restaurant_care else 'False')\n",
    "toronto_restaurants_care=toronto_restaurants_care[toronto_restaurants_care['Restaurant_Category_Remove']=='True']\n",
    "toronto_restaurants_care.head()"
   ]
  },
  {
   "cell_type": "code",
   "execution_count": 51,
   "metadata": {
    "scrolled": true
   },
   "outputs": [
    {
     "name": "stdout",
     "output_type": "stream",
     "text": [
      "There are 157 uniques restaurant devide into 46 categories in 12 locations \n"
     ]
    }
   ],
   "source": [
    "print('There are {} uniques restaurant devide into {} categories in {} locations '.format(len(toronto_restaurants_care['Restaurant'].unique()),len(toronto_restaurants_care['Restaurant_Category'].unique()),len(toronto_restaurants_care['Neighborhood'].unique())))"
   ]
  },
  {
   "cell_type": "markdown",
   "metadata": {},
   "source": [
    "### 2.Data Analysis"
   ]
  },
  {
   "cell_type": "markdown",
   "metadata": {},
   "source": [
    "### 2.1. Prepare data for visualization data"
   ]
  },
  {
   "cell_type": "markdown",
   "metadata": {},
   "source": [
    "Let us see how densitively current distribution of restaurant and pupolation in locations in Toronto?"
   ]
  },
  {
   "cell_type": "markdown",
   "metadata": {},
   "source": [
    "2.1.1.Firstly, we are going to count number of restaurant for each location to visualize it on plot"
   ]
  },
  {
   "cell_type": "code",
   "execution_count": 59,
   "metadata": {
    "scrolled": true
   },
   "outputs": [
    {
     "data": {
      "text/html": [
       "<div>\n",
       "<style scoped>\n",
       "    .dataframe tbody tr th:only-of-type {\n",
       "        vertical-align: middle;\n",
       "    }\n",
       "\n",
       "    .dataframe tbody tr th {\n",
       "        vertical-align: top;\n",
       "    }\n",
       "\n",
       "    .dataframe thead th {\n",
       "        text-align: right;\n",
       "    }\n",
       "</style>\n",
       "<table border=\"1\" class=\"dataframe\">\n",
       "  <thead>\n",
       "    <tr style=\"text-align: right;\">\n",
       "      <th></th>\n",
       "      <th>Neighborhood</th>\n",
       "      <th>Restaurant</th>\n",
       "    </tr>\n",
       "  </thead>\n",
       "  <tbody>\n",
       "    <tr>\n",
       "      <th>0</th>\n",
       "      <td>Beaches-East York</td>\n",
       "      <td>12</td>\n",
       "    </tr>\n",
       "    <tr>\n",
       "      <th>1</th>\n",
       "      <td>Davenport</td>\n",
       "      <td>4</td>\n",
       "    </tr>\n",
       "    <tr>\n",
       "      <th>2</th>\n",
       "      <td>Eglinton-Lawrence</td>\n",
       "      <td>14</td>\n",
       "    </tr>\n",
       "    <tr>\n",
       "      <th>3</th>\n",
       "      <td>Etobicoke Centre</td>\n",
       "      <td>10</td>\n",
       "    </tr>\n",
       "    <tr>\n",
       "      <th>4</th>\n",
       "      <td>Etobicoke North</td>\n",
       "      <td>32</td>\n",
       "    </tr>\n",
       "  </tbody>\n",
       "</table>\n",
       "</div>"
      ],
      "text/plain": [
       "        Neighborhood  Restaurant\n",
       "0  Beaches-East York          12\n",
       "1          Davenport           4\n",
       "2  Eglinton-Lawrence          14\n",
       "3   Etobicoke Centre          10\n",
       "4    Etobicoke North          32"
      ]
     },
     "execution_count": 59,
     "metadata": {},
     "output_type": "execute_result"
    }
   ],
   "source": [
    "#count number of restaurant for each location\n",
    "df_graph_res=toronto_restaurants_care[['Neighborhood','Restaurant']]\n",
    "df_graph_res_count=df_graph_res.groupby('Neighborhood').count().reset_index()\n",
    "df_graph_res_count.head()"
   ]
  },
  {
   "cell_type": "markdown",
   "metadata": {},
   "source": [
    "2.1.2.Secondly, we are going to combine dataset consists of features:  number of population,count of restaurant for each location"
   ]
  },
  {
   "cell_type": "code",
   "execution_count": 60,
   "metadata": {},
   "outputs": [
    {
     "data": {
      "text/html": [
       "<div>\n",
       "<style scoped>\n",
       "    .dataframe tbody tr th:only-of-type {\n",
       "        vertical-align: middle;\n",
       "    }\n",
       "\n",
       "    .dataframe tbody tr th {\n",
       "        vertical-align: top;\n",
       "    }\n",
       "\n",
       "    .dataframe thead th {\n",
       "        text-align: right;\n",
       "    }\n",
       "</style>\n",
       "<table border=\"1\" class=\"dataframe\">\n",
       "  <thead>\n",
       "    <tr style=\"text-align: right;\">\n",
       "      <th></th>\n",
       "      <th>Neighborhood</th>\n",
       "      <th>Restaurant</th>\n",
       "      <th>Population</th>\n",
       "      <th>Lat</th>\n",
       "      <th>Lng</th>\n",
       "    </tr>\n",
       "  </thead>\n",
       "  <tbody>\n",
       "    <tr>\n",
       "      <th>0</th>\n",
       "      <td>Beaches-East York</td>\n",
       "      <td>12</td>\n",
       "      <td>911315.0</td>\n",
       "      <td>43.676357</td>\n",
       "      <td>-79.293031</td>\n",
       "    </tr>\n",
       "    <tr>\n",
       "      <th>1</th>\n",
       "      <td>Davenport</td>\n",
       "      <td>4</td>\n",
       "      <td>100420.0</td>\n",
       "      <td>41.523644</td>\n",
       "      <td>-90.577637</td>\n",
       "    </tr>\n",
       "    <tr>\n",
       "      <th>2</th>\n",
       "      <td>Eglinton-Lawrence</td>\n",
       "      <td>14</td>\n",
       "      <td>114530.0</td>\n",
       "      <td>43.719265</td>\n",
       "      <td>-79.429765</td>\n",
       "    </tr>\n",
       "    <tr>\n",
       "      <th>3</th>\n",
       "      <td>Etobicoke Centre</td>\n",
       "      <td>10</td>\n",
       "      <td>254835.0</td>\n",
       "      <td>43.679833</td>\n",
       "      <td>-79.538993</td>\n",
       "    </tr>\n",
       "    <tr>\n",
       "      <th>4</th>\n",
       "      <td>Etobicoke North</td>\n",
       "      <td>32</td>\n",
       "      <td>202675.0</td>\n",
       "      <td>43.741093</td>\n",
       "      <td>-79.589225</td>\n",
       "    </tr>\n",
       "  </tbody>\n",
       "</table>\n",
       "</div>"
      ],
      "text/plain": [
       "        Neighborhood  Restaurant  Population        Lat        Lng\n",
       "0  Beaches-East York          12    911315.0  43.676357 -79.293031\n",
       "1          Davenport           4    100420.0  41.523644 -90.577637\n",
       "2  Eglinton-Lawrence          14    114530.0  43.719265 -79.429765\n",
       "3   Etobicoke Centre          10    254835.0  43.679833 -79.538993\n",
       "4    Etobicoke North          32    202675.0  43.741093 -79.589225"
      ]
     },
     "execution_count": 60,
     "metadata": {},
     "output_type": "execute_result"
    }
   ],
   "source": [
    "#combine dataset consists of features:  number of population,count of restaurant for each location\n",
    "pop_data_ready['Neighborhood']=pop_data_ready['Borough']\n",
    "df_last=pd.merge(right=pop_data_ready,left=df_graph_res_count,left_on='Neighborhood',right_on='Neighborhood')\n",
    "#drop some columns that is not essential\n",
    "df_last.drop(['Borough','Borough1','Borough2'],axis=1,inplace=True)\n",
    "df_last.head()"
   ]
  },
  {
   "cell_type": "markdown",
   "metadata": {},
   "source": [
    "### 2.2. Starting visualization data\n",
    "#### 2.2.1.See in graph bar about number of Restaurants and populations"
   ]
  },
  {
   "cell_type": "code",
   "execution_count": 62,
   "metadata": {
    "scrolled": true
   },
   "outputs": [
    {
     "data": {
      "text/plain": [
       "<matplotlib.axes._subplots.AxesSubplot at 0x7efe226006d8>"
      ]
     },
     "execution_count": 62,
     "metadata": {},
     "output_type": "execute_result"
    },
    {
     "data": {
      "image/png": "[encoded data removed]",
      "text/plain": [
       "<Figure size 1440x720 with 1 Axes>"
      ]
     },
     "metadata": {
      "needs_background": "light"
     },
     "output_type": "display_data"
    }
   ],
   "source": [
    "df_last_data=df_last.copy()\n",
    "df_last_data['PPopulation'] = 100*df_last_data['Population']/df_last_data['Population'].sum()\n",
    "df_last_data['PRestaurant'] = 100*df_last_data['Restaurant']/df_last_data['Restaurant'].sum()\n",
    "df_last_data.sort_values(['PRestaurant'],ascending=True,inplace=True)\n",
    "\n",
    "df_last_data.drop(['Lat','Lng','Population','Restaurant'],axis=1,inplace=True)\n",
    "df_last_data.reset_index()\n",
    "df_last_data.set_index('Neighborhood',inplace=True)\n",
    "#df_last_data.head()\n",
    "df_last_data.plot(kind='bar',stacked=False,figsize=(20, 10))\n"
   ]
  },
  {
   "cell_type": "markdown",
   "metadata": {},
   "source": [
    "We could see the top 3 location is the most potential location for open new restaurant in Toronto is:"
   ]
  },
  {
   "cell_type": "markdown",
   "metadata": {},
   "source": [
    "#### 2.2.2. See some correlation betwen % of restaurant and % pupolations for each location"
   ]
  },
  {
   "cell_type": "code",
   "execution_count": 69,
   "metadata": {},
   "outputs": [
    {
     "data": {
      "text/plain": [
       "(0, 19.136721419272114)"
      ]
     },
     "execution_count": 69,
     "metadata": {},
     "output_type": "execute_result"
    },
    {
     "data": {
      "image/png": "[encoded data removed]",
      "text/plain": [
       "<Figure size 432x288 with 1 Axes>"
      ]
     },
     "metadata": {
      "needs_background": "light"
     },
     "output_type": "display_data"
    }
   ],
   "source": [
    "import matplotlib.pyplot as plt\n",
    "sns.regplot(x='PPopulation',y='PRestaurant',data=df_last_data)\n",
    "plt.ylim(0,)"
   ]
  },
  {
   "cell_type": "markdown",
   "metadata": {},
   "source": [
    "#### 2.2.3. See some correlation betwen number of restaurant and total of pupolations for each location"
   ]
  },
  {
   "cell_type": "code",
   "execution_count": 70,
   "metadata": {},
   "outputs": [
    {
     "data": {
      "text/plain": [
       "(0, 33.916501237282404)"
      ]
     },
     "execution_count": 70,
     "metadata": {},
     "output_type": "execute_result"
    },
    {
     "data": {
      "image/png": "[encoded data removed]",
      "text/plain": [
       "<Figure size 432x288 with 1 Axes>"
      ]
     },
     "metadata": {
      "needs_background": "light"
     },
     "output_type": "display_data"
    }
   ],
   "source": [
    "sns.regplot(x='Population',y='Restaurant',data=df_last)\n",
    "plt.ylim(0,)"
   ]
  },
  {
   "cell_type": "markdown",
   "metadata": {},
   "source": [
    "#### 2.2.3. Visualization on maps"
   ]
  },
  {
   "cell_type": "code",
   "execution_count": 72,
   "metadata": {},
   "outputs": [
    {
     "data": {
      "text/html": [
       "<div style=\"width:100%;\"><div style=\"position:relative;width:100%;height:0;padding-bottom:60%;\"><iframe src=\"data:text/html;charset=utf-8;base64,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\" style=\"position:absolute;width:100%;height:100%;left:0;top:0;border:none !important;\" allowfullscreen webkitallowfullscreen mozallowfullscreen></iframe></div></div>"
      ],
      "text/plain": [
       "<folium.folium.Map at 0x7efe216149e8>"
      ]
     },
     "execution_count": 72,
     "metadata": {},
     "output_type": "execute_result"
    }
   ],
   "source": [
    "# create map of Toronto using latitude and longitude values\n",
    "map_restaurant = folium.Map(location=[latitude, longitude], zoom_start=12)\n",
    "data_test=toronto_restaurants_care.copy()\n",
    "# add markers to map\n",
    "for lat, lng, neighborhood, restaurant in zip(data_test['Restaurant_Latitude'], data_test['Restaurant_Longitude'], data_test['Neighborhood'], data_test['Restaurant']):\n",
    "    label = '{}, {}'.format(restaurant, neighborhood)\n",
    "    #print(label)\n",
    "    label = folium.Popup(label, parse_html=True)\n",
    "    folium.CircleMarker(\n",
    "        [lat, lng],\n",
    "        radius=5,\n",
    "        popup=label,\n",
    "        color='blue',\n",
    "        fill=True,\n",
    "        fill_color='#3186cc',\n",
    "        fill_opacity=0.7,\n",
    "        parse_html=False).add_to(map_restaurant)  \n",
    "map_restaurant"
   ]
  },
  {
   "cell_type": "markdown",
   "metadata": {},
   "source": [
    "#### We check query let get location that there is most number of population but least of restaurants"
   ]
  },
  {
   "cell_type": "code",
   "execution_count": 77,
   "metadata": {},
   "outputs": [
    {
     "data": {
      "text/html": [
       "<div>\n",
       "<style scoped>\n",
       "    .dataframe tbody tr th:only-of-type {\n",
       "        vertical-align: middle;\n",
       "    }\n",
       "\n",
       "    .dataframe tbody tr th {\n",
       "        vertical-align: top;\n",
       "    }\n",
       "\n",
       "    .dataframe thead th {\n",
       "        text-align: right;\n",
       "    }\n",
       "</style>\n",
       "<table border=\"1\" class=\"dataframe\">\n",
       "  <thead>\n",
       "    <tr style=\"text-align: right;\">\n",
       "      <th></th>\n",
       "      <th>PPopulation</th>\n",
       "      <th>PRestaurant</th>\n",
       "    </tr>\n",
       "    <tr>\n",
       "      <th>Neighborhood</th>\n",
       "      <th></th>\n",
       "      <th></th>\n",
       "    </tr>\n",
       "  </thead>\n",
       "  <tbody>\n",
       "    <tr>\n",
       "      <th>Beaches-East York</th>\n",
       "      <td>31.194835</td>\n",
       "      <td>6.779661</td>\n",
       "    </tr>\n",
       "    <tr>\n",
       "      <th>Parkdale-High Park</th>\n",
       "      <td>17.679407</td>\n",
       "      <td>7.344633</td>\n",
       "    </tr>\n",
       "    <tr>\n",
       "      <th>Scarborough-Agincourt</th>\n",
       "      <td>11.392962</td>\n",
       "      <td>6.779661</td>\n",
       "    </tr>\n",
       "    <tr>\n",
       "      <th>Etobicoke Centre</th>\n",
       "      <td>8.723148</td>\n",
       "      <td>5.649718</td>\n",
       "    </tr>\n",
       "    <tr>\n",
       "      <th>York Centre</th>\n",
       "      <td>8.115042</td>\n",
       "      <td>6.779661</td>\n",
       "    </tr>\n",
       "  </tbody>\n",
       "</table>\n",
       "</div>"
      ],
      "text/plain": [
       "                       PPopulation  PRestaurant\n",
       "Neighborhood                                   \n",
       "Beaches-East York        31.194835     6.779661\n",
       "Parkdale-High Park       17.679407     7.344633\n",
       "Scarborough-Agincourt    11.392962     6.779661\n",
       "Etobicoke Centre          8.723148     5.649718\n",
       "York Centre               8.115042     6.779661"
      ]
     },
     "execution_count": 77,
     "metadata": {},
     "output_type": "execute_result"
    }
   ],
   "source": [
    "df_tmp=df_last_data.sort_values('PPopulation', ascending=False)\n",
    "df_tmp.head(5)\n",
    "#df_tmp.sort_values(by=['PRestaurant'], inplace=True, ascending=True)\n",
    "#df_tmp.head(5)"
   ]
  },
  {
   "cell_type": "markdown",
   "metadata": {},
   "source": [
    "## Conclusion"
   ]
  },
  {
   "cell_type": "markdown",
   "metadata": {},
   "source": [
    "Based on some aboved data analysis , we could recommend company XYZ JSC should invest into one of followling locations: "
   ]
  },
  {
   "cell_type": "markdown",
   "metadata": {},
   "source": [
    "1. Beaches-East York <br>\n",
    "2. Parkdale-High Park <br>\n",
    "2. Scarborough-Agincourt<br>"
   ]
  },
  {
   "cell_type": "code",
   "execution_count": null,
   "metadata": {},
   "outputs": [],
   "source": []
  }
 ],
 "metadata": {
  "kernelspec": {
   "display_name": "Python 3.6",
   "language": "python",
   "name": "python3"
  },
  "language_info": {
   "codemirror_mode": {
    "name": "ipython",
    "version": 3
   },
   "file_extension": ".py",
   "mimetype": "text/x-python",
   "name": "python",
   "nbconvert_exporter": "python",
   "pygments_lexer": "ipython3",
   "version": "3.6.9"
  },
  "widgets": {
   "state": {},
   "version": "1.1.2"
  }
 },
 "nbformat": 4,
 "nbformat_minor": 2
}
