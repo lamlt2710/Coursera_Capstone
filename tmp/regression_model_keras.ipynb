{
 "cells": [
  {
   "cell_type": "markdown",
   "metadata": {},
   "source": [
    "# Regression Model in Keras"
   ]
  },
  {
   "cell_type": "code",
   "execution_count": 1,
   "metadata": {},
   "outputs": [],
   "source": [
    "import pandas as pd\n",
    "import numpy as np"
   ]
  },
  {
   "cell_type": "code",
   "execution_count": 2,
   "metadata": {},
   "outputs": [
    {
     "data": {
      "text/html": [
       "<div>\n",
       "<style scoped>\n",
       "    .dataframe tbody tr th:only-of-type {\n",
       "        vertical-align: middle;\n",
       "    }\n",
       "\n",
       "    .dataframe tbody tr th {\n",
       "        vertical-align: top;\n",
       "    }\n",
       "\n",
       "    .dataframe thead th {\n",
       "        text-align: right;\n",
       "    }\n",
       "</style>\n",
       "<table border=\"1\" class=\"dataframe\">\n",
       "  <thead>\n",
       "    <tr style=\"text-align: right;\">\n",
       "      <th></th>\n",
       "      <th>Cement</th>\n",
       "      <th>Blast Furnace Slag</th>\n",
       "      <th>Fly Ash</th>\n",
       "      <th>Water</th>\n",
       "      <th>Superplasticizer</th>\n",
       "      <th>Coarse Aggregate</th>\n",
       "      <th>Fine Aggregate</th>\n",
       "      <th>Age</th>\n",
       "      <th>Strength</th>\n",
       "    </tr>\n",
       "  </thead>\n",
       "  <tbody>\n",
       "    <tr>\n",
       "      <th>0</th>\n",
       "      <td>540.0</td>\n",
       "      <td>0.0</td>\n",
       "      <td>0.0</td>\n",
       "      <td>162.0</td>\n",
       "      <td>2.5</td>\n",
       "      <td>1040.0</td>\n",
       "      <td>676.0</td>\n",
       "      <td>28</td>\n",
       "      <td>79.99</td>\n",
       "    </tr>\n",
       "    <tr>\n",
       "      <th>1</th>\n",
       "      <td>540.0</td>\n",
       "      <td>0.0</td>\n",
       "      <td>0.0</td>\n",
       "      <td>162.0</td>\n",
       "      <td>2.5</td>\n",
       "      <td>1055.0</td>\n",
       "      <td>676.0</td>\n",
       "      <td>28</td>\n",
       "      <td>61.89</td>\n",
       "    </tr>\n",
       "    <tr>\n",
       "      <th>2</th>\n",
       "      <td>332.5</td>\n",
       "      <td>142.5</td>\n",
       "      <td>0.0</td>\n",
       "      <td>228.0</td>\n",
       "      <td>0.0</td>\n",
       "      <td>932.0</td>\n",
       "      <td>594.0</td>\n",
       "      <td>270</td>\n",
       "      <td>40.27</td>\n",
       "    </tr>\n",
       "    <tr>\n",
       "      <th>3</th>\n",
       "      <td>332.5</td>\n",
       "      <td>142.5</td>\n",
       "      <td>0.0</td>\n",
       "      <td>228.0</td>\n",
       "      <td>0.0</td>\n",
       "      <td>932.0</td>\n",
       "      <td>594.0</td>\n",
       "      <td>365</td>\n",
       "      <td>41.05</td>\n",
       "    </tr>\n",
       "    <tr>\n",
       "      <th>4</th>\n",
       "      <td>198.6</td>\n",
       "      <td>132.4</td>\n",
       "      <td>0.0</td>\n",
       "      <td>192.0</td>\n",
       "      <td>0.0</td>\n",
       "      <td>978.4</td>\n",
       "      <td>825.5</td>\n",
       "      <td>360</td>\n",
       "      <td>44.30</td>\n",
       "    </tr>\n",
       "  </tbody>\n",
       "</table>\n",
       "</div>"
      ],
      "text/plain": [
       "   Cement  Blast Furnace Slag  Fly Ash  Water  Superplasticizer  \\\n",
       "0   540.0                 0.0      0.0  162.0               2.5   \n",
       "1   540.0                 0.0      0.0  162.0               2.5   \n",
       "2   332.5               142.5      0.0  228.0               0.0   \n",
       "3   332.5               142.5      0.0  228.0               0.0   \n",
       "4   198.6               132.4      0.0  192.0               0.0   \n",
       "\n",
       "   Coarse Aggregate  Fine Aggregate  Age  Strength  \n",
       "0            1040.0           676.0   28     79.99  \n",
       "1            1055.0           676.0   28     61.89  \n",
       "2             932.0           594.0  270     40.27  \n",
       "3             932.0           594.0  365     41.05  \n",
       "4             978.4           825.5  360     44.30  "
      ]
     },
     "execution_count": 2,
     "metadata": {},
     "output_type": "execute_result"
    }
   ],
   "source": [
    "concrete_data = pd.read_csv('https://s3-api.us-geo.objectstorage.softlayer.net/cf-courses-data/CognitiveClass/DL0101EN/labs/data/concrete_data.csv')\n",
    "concrete_data.head()"
   ]
  },
  {
   "cell_type": "code",
   "execution_count": 3,
   "metadata": {},
   "outputs": [
    {
     "data": {
      "text/plain": [
       "(1030, 9)"
      ]
     },
     "execution_count": 3,
     "metadata": {},
     "output_type": "execute_result"
    }
   ],
   "source": [
    "concrete_data.shape"
   ]
  },
  {
   "cell_type": "code",
   "execution_count": 4,
   "metadata": {},
   "outputs": [
    {
     "data": {
      "text/plain": [
       "Cement                0\n",
       "Blast Furnace Slag    0\n",
       "Fly Ash               0\n",
       "Water                 0\n",
       "Superplasticizer      0\n",
       "Coarse Aggregate      0\n",
       "Fine Aggregate        0\n",
       "Age                   0\n",
       "Strength              0\n",
       "dtype: int64"
      ]
     },
     "execution_count": 4,
     "metadata": {},
     "output_type": "execute_result"
    }
   ],
   "source": [
    "concrete_data.isnull().sum()"
   ]
  },
  {
   "cell_type": "markdown",
   "metadata": {},
   "source": [
    "### Split data into predictors and target\n",
    "The target variable in this problem is the concrete sample strength. Therefore, our predictors will be all the other columns."
   ]
  },
  {
   "cell_type": "code",
   "execution_count": 5,
   "metadata": {},
   "outputs": [
    {
     "data": {
      "text/plain": [
       "8"
      ]
     },
     "execution_count": 5,
     "metadata": {},
     "output_type": "execute_result"
    }
   ],
   "source": [
    "concrete_data_columns = concrete_data.columns\n",
    "\n",
    "predictors = concrete_data[concrete_data_columns[concrete_data_columns != 'Strength']] # all columns except Strength\n",
    "predictors_norm = (predictors - predictors.mean()) / predictors.std() #nomalised version\n",
    "target = concrete_data['Strength'] # Strength column\n",
    "n_cols = predictors.shape[1] # number of predictors\n",
    "n_cols"
   ]
  },
  {
   "cell_type": "code",
   "execution_count": 6,
   "metadata": {},
   "outputs": [
    {
     "name": "stderr",
     "output_type": "stream",
     "text": [
      "Using TensorFlow backend.\n"
     ]
    }
   ],
   "source": [
    "import keras\n",
    "from keras.models import Sequential\n",
    "from keras.layers import Dense"
   ]
  },
  {
   "cell_type": "markdown",
   "metadata": {},
   "source": [
    "# Part A"
   ]
  },
  {
   "cell_type": "code",
   "execution_count": 7,
   "metadata": {},
   "outputs": [],
   "source": [
    "from sklearn.model_selection import train_test_split\n",
    "from sklearn.metrics import mean_squared_error "
   ]
  },
  {
   "cell_type": "markdown",
   "metadata": {},
   "source": [
    "Define regression model"
   ]
  },
  {
   "cell_type": "code",
   "execution_count": 8,
   "metadata": {},
   "outputs": [],
   "source": [
    "def regression_model(n_hidden = 1):\n",
    "    model = Sequential()\n",
    "    model.add(Dense(10, activation='relu', input_shape=(n_cols,))) #input layer\n",
    "    \n",
    "    for i in range(n_hidden): #number of hidden layers\n",
    "        model.add(Dense(10, activation='relu'))\n",
    "        \n",
    "    model.add(Dense(1)) #output layer\n",
    "    \n",
    "    # compile model\n",
    "    model.compile(optimizer='adam', loss='mean_squared_error')\n",
    "    return model\n"
   ]
  },
  {
   "cell_type": "markdown",
   "metadata": {},
   "source": [
    "### A.1. Splitting the data into a training and test sets by holding 30% of the data for testing\n",
    "### A.2. Train on training data for 50 epochs\n",
    "### A.3. return mean_squared error between prediction on test and actual test labels"
   ]
  },
  {
   "cell_type": "code",
   "execution_count": 9,
   "metadata": {},
   "outputs": [],
   "source": [
    "def calc_mse(model, features, n_epochs=50):\n",
    "    X_train, X_test, y_train, y_test = train_test_split(features, target, test_size=0.3) #1\n",
    "    model.fit(X_train, y_train, epochs=n_epochs, verbose=0) #2\n",
    "    return mean_squared_error(y_test, model.predict(X_test)) #3"
   ]
  },
  {
   "cell_type": "markdown",
   "metadata": {},
   "source": [
    "### A.4. Repeat steps 1 - 3, 50 times, i.e., create a list of 50 mean squared errors."
   ]
  },
  {
   "cell_type": "code",
   "execution_count": 11,
   "metadata": {},
   "outputs": [
    {
     "name": "stdout",
     "output_type": "stream",
     "text": [
      "running...\n",
      "mse1=148.030467234928...\n",
      "mse2=112.29026830004891...\n",
      "mse3=103.84467611266179...\n",
      "mse4=96.90073327522644...\n",
      "mse5=98.3575387025331...\n",
      "mse6=105.24413370069743...\n",
      "mse7=108.7189146772465...\n",
      "mse8=70.75999359110634...\n",
      "mse9=63.860252597177016...\n",
      "mse10=59.57678219286116...\n",
      "mse11=47.42248397955145...\n",
      "mse12=48.478087145572694...\n",
      "mse13=50.30262110370942...\n",
      "mse14=55.53506164076601...\n",
      "mse15=53.079523521127086...\n",
      "mse16=53.64598687297436...\n",
      "mse17=51.14009570916117...\n",
      "mse18=54.657988687787594...\n",
      "mse19=48.320803389980554...\n",
      "mse20=59.1025139342195...\n",
      "mse21=44.088684342967966...\n",
      "mse22=54.88889349916351...\n",
      "mse23=48.28428832131031...\n",
      "mse24=58.4305035836784...\n",
      "mse25=56.699317372177944...\n",
      "mse26=45.25708754710977...\n",
      "mse27=55.89941133439924...\n",
      "mse28=51.58296950526839...\n",
      "mse29=49.080247421536676...\n",
      "mse30=48.75772222499391...\n",
      "mse31=49.46707657638866...\n",
      "mse32=58.340317653329315...\n",
      "mse33=61.34779970489103...\n",
      "mse34=51.992647343742156...\n",
      "mse35=66.36630939985271...\n",
      "mse36=67.9625483992333...\n",
      "mse37=56.412540195474456...\n",
      "mse38=44.56553588276599...\n",
      "mse39=48.59522183727974...\n",
      "mse40=48.811960735230116...\n",
      "mse41=53.075887790389366...\n",
      "mse42=43.63021006936427...\n",
      "mse43=44.81412618634607...\n",
      "mse44=59.57203035880152...\n",
      "mse45=51.65352700390334...\n",
      "mse46=59.247506731674214...\n",
      "mse47=57.60131265665376...\n",
      "mse48=53.47951574383392...\n",
      "mse49=55.25041966359318...\n",
      "mse50=53.05754783501886...\n",
      "calculation completed.\n"
     ]
    }
   ],
   "source": [
    "model = regression_model(n_hidden=1) # n_hidden=1  \n",
    "mse_listA=[]\n",
    "print('running...')\n",
    "while len(mse_listA) < 50:\n",
    "    mse = calc_mse(model=model, features=predictors) #n_epochs=50(default)\n",
    "    mse_listA.append(mse)\n",
    "    print('mse{}={}...'.format(len(mse_listA), mse_listA[-1]))\n",
    "print('calculation completed.')"
   ]
  },
  {
   "cell_type": "markdown",
   "metadata": {},
   "source": [
    "### A5. Report the mean and the standard deviation of the mean squared errors."
   ]
  },
  {
   "cell_type": "code",
   "execution_count": 14,
   "metadata": {},
   "outputs": [
    {
     "name": "stdout",
     "output_type": "stream",
     "text": [
      "count = 50, the mean = 61.75, the standard deviation=21.392\n"
     ]
    }
   ],
   "source": [
    "print('count = {}, the mean = {}, the standard deviation={}'.format(len(mse_listA), round(np.array(mse_listA).mean(), 3), round(np.array(mse_listA).std(), 3) ))"
   ]
  },
  {
   "cell_type": "markdown",
   "metadata": {},
   "source": [
    "# Part B"
   ]
  },
  {
   "cell_type": "markdown",
   "metadata": {},
   "source": [
    "Repeat Part A but use a normalized version of the data."
   ]
  },
  {
   "cell_type": "code",
   "execution_count": 13,
   "metadata": {},
   "outputs": [
    {
     "name": "stdout",
     "output_type": "stream",
     "text": [
      "running...\n",
      "mse1=131.2346045072095...\n",
      "mse2=114.01426874525977...\n",
      "mse3=107.99182782801887...\n",
      "mse4=95.83878561179156...\n",
      "mse5=94.28920426234376...\n",
      "mse6=69.68087397754408...\n",
      "mse7=48.76363190720589...\n",
      "mse8=43.40767224339627...\n",
      "mse9=44.349356964744416...\n",
      "mse10=36.947603400624345...\n",
      "mse11=43.124090185285915...\n",
      "mse12=41.42864403482789...\n",
      "mse13=31.785523295776308...\n",
      "mse14=42.0551885446876...\n",
      "mse15=32.98837226526215...\n",
      "mse16=37.407547190686344...\n",
      "mse17=32.97235972108524...\n",
      "mse18=40.18683108037253...\n",
      "mse19=37.491855087504035...\n",
      "mse20=32.482079582511425...\n",
      "mse21=36.70869033476383...\n",
      "mse22=37.053666992186564...\n",
      "mse23=38.17192691743233...\n",
      "mse24=38.33836278730678...\n",
      "mse25=31.112279818621623...\n",
      "mse26=32.82614576460935...\n",
      "mse27=33.2167716189771...\n",
      "mse28=33.11861727101451...\n",
      "mse29=32.36055719685855...\n",
      "mse30=29.700804065710113...\n",
      "mse31=33.20517566053811...\n",
      "mse32=30.468053773063254...\n",
      "mse33=31.17022301604571...\n",
      "mse34=33.72728336926591...\n",
      "mse35=28.53141139664144...\n",
      "mse36=35.57629851594477...\n",
      "mse37=31.83781569090433...\n",
      "mse38=27.504899279927173...\n",
      "mse39=29.941232891538647...\n",
      "mse40=29.099068675205057...\n",
      "mse41=26.702963034044192...\n",
      "mse42=27.41440607246938...\n",
      "mse43=27.28574696527812...\n",
      "mse44=23.531842817075706...\n",
      "mse45=28.695743126911218...\n",
      "mse46=28.514798226367553...\n",
      "mse47=24.885066101727777...\n",
      "mse48=27.883548515586753...\n",
      "mse49=31.858300032093545...\n",
      "mse50=26.691970976474785...\n",
      "calculation completed.\n"
     ]
    }
   ],
   "source": [
    "model = regression_model(n_hidden=1) #hidden = 1\n",
    "   \n",
    "mse_listB=[]\n",
    "print('running...')\n",
    "while len(mse_listB) < 50:\n",
    "    mse = calc_mse(model=model, features=predictors_norm)# normalized_version + n_epochs=50(default)\n",
    "    mse_listB.append(mse)\n",
    "    print('mse{}={}...'.format(len(mse_listB), mse_listB[-1]))\n",
    "print('calculation completed.')"
   ]
  },
  {
   "cell_type": "markdown",
   "metadata": {},
   "source": [
    "The mean of the mean squared errors is **decreased** compared to A"
   ]
  },
  {
   "cell_type": "code",
   "execution_count": 18,
   "metadata": {},
   "outputs": [
    {
     "name": "stdout",
     "output_type": "stream",
     "text": [
      "count = 50, the mean = 41.711, the standard deviation=23.875\n"
     ]
    }
   ],
   "source": [
    "print('count = {}, the mean = {}, the standard deviation={}'.format(len(mse_listB), round(np.array(mse_listB).mean(), 3), round(np.array(mse_listB).std(), 3) ))"
   ]
  },
  {
   "cell_type": "markdown",
   "metadata": {},
   "source": [
    "# Part C"
   ]
  },
  {
   "cell_type": "markdown",
   "metadata": {},
   "source": [
    "Repeat Part B but using 100 epochs for training."
   ]
  },
  {
   "cell_type": "code",
   "execution_count": 16,
   "metadata": {},
   "outputs": [
    {
     "name": "stdout",
     "output_type": "stream",
     "text": [
      "running...\n",
      "mse1=105.70219841307689...\n",
      "mse2=104.53070507361042...\n",
      "mse3=112.07834057967654...\n",
      "mse4=50.86922716199953...\n",
      "mse5=42.4890806807713...\n",
      "mse6=49.71336303123367...\n",
      "mse7=41.568944913234496...\n",
      "mse8=41.28025601590005...\n",
      "mse9=45.03288021350182...\n",
      "mse10=39.40225823944532...\n",
      "mse11=36.08475896598199...\n",
      "mse12=38.74788333235147...\n",
      "mse13=38.11454854698084...\n",
      "mse14=38.199072027327645...\n",
      "mse15=37.96993990778225...\n",
      "mse16=35.922543439791454...\n",
      "mse17=41.1484598856316...\n",
      "mse18=36.15443560613495...\n",
      "mse19=32.28358734522494...\n",
      "mse20=32.77925301441881...\n",
      "mse21=38.71298606982265...\n",
      "mse22=41.90725494609976...\n",
      "mse23=33.317002289015775...\n",
      "mse24=37.955960558340564...\n",
      "mse25=31.286443467013335...\n",
      "mse26=36.24507624916443...\n",
      "mse27=31.774185895260626...\n",
      "mse28=25.806365930601523...\n",
      "mse29=31.4021327214565...\n",
      "mse30=28.345806008187683...\n",
      "mse31=29.612896750885806...\n",
      "mse32=29.587414144983754...\n",
      "mse33=32.102368960291784...\n",
      "mse34=29.642488073008522...\n",
      "mse35=31.273136241595743...\n",
      "mse36=26.26077924180009...\n",
      "mse37=30.792734853372348...\n",
      "mse38=30.744142328928522...\n",
      "mse39=28.41090477295995...\n",
      "mse40=29.058021023369793...\n",
      "mse41=28.83028119284555...\n",
      "mse42=28.628213645219553...\n",
      "mse43=29.462581125361684...\n",
      "mse44=29.7053642329982...\n",
      "mse45=30.991177025605218...\n",
      "mse46=28.756826355621143...\n",
      "mse47=29.040426700387506...\n",
      "mse48=28.222351510952443...\n",
      "mse49=33.40393196919068...\n",
      "mse50=28.44832081061635...\n",
      "calculation completed.\n"
     ]
    }
   ],
   "source": [
    "model = regression_model(n_hidden=1)  #hidden = 1\n",
    "mse_listC=[]\n",
    "print('running...')\n",
    "while len(mse_listC) < 50:\n",
    "    mse = calc_mse(model=model, features=predictors_norm, n_epochs=100) #normalized_version + n_epochs=100\n",
    "    mse_listC.append(mse)\n",
    "    print('mse{}={}...'.format(len(mse_listC), mse_listC[-1]))\n",
    "print('calculation completed.')"
   ]
  },
  {
   "cell_type": "markdown",
   "metadata": {},
   "source": [
    "The mean is **decreased** compared to B"
   ]
  },
  {
   "cell_type": "code",
   "execution_count": 17,
   "metadata": {},
   "outputs": [
    {
     "name": "stdout",
     "output_type": "stream",
     "text": [
      "count = 50, the mean = 38.596, the standard deviation=18.336\n"
     ]
    }
   ],
   "source": [
    "print('count = {}, the mean = {}, the standard deviation={}'.format(len(mse_listC), round(np.array(mse_listC).mean(), 3), round(np.array(mse_listC).std(), 3) ))"
   ]
  },
  {
   "cell_type": "markdown",
   "metadata": {},
   "source": [
    "# Part D"
   ]
  },
  {
   "cell_type": "markdown",
   "metadata": {},
   "source": [
    "Repeat part B but using a neural network with three hidden layers"
   ]
  },
  {
   "cell_type": "code",
   "execution_count": 19,
   "metadata": {},
   "outputs": [
    {
     "name": "stdout",
     "output_type": "stream",
     "text": [
      "running...\n",
      "mse1=127.89582015409574...\n",
      "mse2=117.1333837344324...\n",
      "mse3=89.17197625983921...\n",
      "mse4=58.36644367931834...\n",
      "mse5=43.713764715781835...\n",
      "mse6=34.17021955666664...\n",
      "mse7=33.11926297178395...\n",
      "mse8=32.83531153404783...\n",
      "mse9=31.775084064394804...\n",
      "mse10=25.821547813100256...\n",
      "mse11=31.138875919837428...\n",
      "mse12=30.22849147073684...\n",
      "mse13=26.19357914446754...\n",
      "mse14=27.929907680288974...\n",
      "mse15=31.933275482985024...\n",
      "mse16=28.92343286858267...\n",
      "mse17=27.161031041610347...\n",
      "mse18=30.34030696159712...\n",
      "mse19=24.183867553116478...\n",
      "mse20=25.802581497064985...\n",
      "mse21=24.830522978698728...\n",
      "mse22=21.64533085790765...\n",
      "mse23=23.777891463187373...\n",
      "mse24=21.180488215895927...\n",
      "mse25=23.7303364710776...\n",
      "mse26=25.395176779917104...\n",
      "mse27=23.597362155134967...\n",
      "mse28=25.273495432534894...\n",
      "mse29=23.03229708205741...\n",
      "mse30=26.079397440311467...\n",
      "mse31=20.812013818735586...\n",
      "mse32=25.29658638737582...\n",
      "mse33=18.935111658760686...\n",
      "mse34=21.285069497863272...\n",
      "mse35=22.516355387271645...\n",
      "mse36=22.24822979823976...\n",
      "mse37=23.091333743123336...\n",
      "mse38=18.933784331688337...\n",
      "mse39=20.515562635428864...\n",
      "mse40=22.208459320578264...\n",
      "mse41=24.617433032479852...\n",
      "mse42=24.14513002898974...\n",
      "mse43=20.295866171928544...\n",
      "mse44=21.10545772253168...\n",
      "mse45=19.16924670169565...\n",
      "mse46=19.807733303394933...\n",
      "mse47=21.198925147290947...\n",
      "mse48=22.27679012749363...\n",
      "mse49=20.81276201178546...\n",
      "mse50=23.06759133512617...\n",
      "calculation completed.\n"
     ]
    }
   ],
   "source": [
    "model = regression_model(n_hidden=3)# n_hidden=3  \n",
    "mse_listD=[]\n",
    "print('running...')\n",
    "while len(mse_listD) < 50:\n",
    "    mse = calc_mse(model=model, features=predictors_norm)# normalized_version + n_epochs=50(default)\n",
    "    mse_listD.append(mse)\n",
    "    print('mse{}={}...'.format(len(mse_listD), mse_listD[-1]))\n",
    "print('calculation completed.')"
   ]
  },
  {
   "cell_type": "markdown",
   "metadata": {},
   "source": [
    "The mean is **decreased** compared to B and C"
   ]
  },
  {
   "cell_type": "code",
   "execution_count": 20,
   "metadata": {},
   "outputs": [
    {
     "name": "stdout",
     "output_type": "stream",
     "text": [
      "count = 50, the mean = 30.974, the standard deviation=21.741\n"
     ]
    }
   ],
   "source": [
    "print('count = {}, the mean = {}, the standard deviation={}'.format(len(mse_listD), round(np.array(mse_listD).mean(), 3), round(np.array(mse_listD).std(), 3) ))"
   ]
  },
  {
   "cell_type": "code",
   "execution_count": null,
   "metadata": {},
   "outputs": [],
   "source": []
  }
 ],
 "metadata": {
  "kernelspec": {
   "display_name": "Python 3.6",
   "language": "python",
   "name": "python3"
  },
  "language_info": {
   "codemirror_mode": {
    "name": "ipython",
    "version": 3
   },
   "file_extension": ".py",
   "mimetype": "text/x-python",
   "name": "python",
   "nbconvert_exporter": "python",
   "pygments_lexer": "ipython3",
   "version": "3.6.9"
  }
 },
 "nbformat": 4,
 "nbformat_minor": 1
}
