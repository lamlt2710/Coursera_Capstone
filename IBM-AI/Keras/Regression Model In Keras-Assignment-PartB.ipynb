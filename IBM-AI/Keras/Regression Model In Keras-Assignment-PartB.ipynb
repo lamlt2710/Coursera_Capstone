{
 "cells": [
  {
   "cell_type": "markdown",
   "metadata": {},
   "source": [
    "Import libarary for projects"
   ]
  },
  {
   "cell_type": "code",
   "execution_count": 1,
   "metadata": {},
   "outputs": [
    {
     "name": "stderr",
     "output_type": "stream",
     "text": [
      "Using TensorFlow backend.\n"
     ]
    }
   ],
   "source": [
    "import pandas as pd\n",
    "import numpy as np\n",
    "import keras\n",
    "from keras.models import Sequential\n",
    "from keras.layers import Dense\n",
    "from sklearn.model_selection import train_test_split\n",
    "from sklearn.metrics import mean_squared_error\n",
    "from math import sqrt"
   ]
  },
  {
   "cell_type": "markdown",
   "metadata": {},
   "source": [
    "Download dataset using for projects"
   ]
  },
  {
   "cell_type": "code",
   "execution_count": 2,
   "metadata": {},
   "outputs": [
    {
     "data": {
      "text/html": [
       "<div>\n",
       "<style scoped>\n",
       "    .dataframe tbody tr th:only-of-type {\n",
       "        vertical-align: middle;\n",
       "    }\n",
       "\n",
       "    .dataframe tbody tr th {\n",
       "        vertical-align: top;\n",
       "    }\n",
       "\n",
       "    .dataframe thead th {\n",
       "        text-align: right;\n",
       "    }\n",
       "</style>\n",
       "<table border=\"1\" class=\"dataframe\">\n",
       "  <thead>\n",
       "    <tr style=\"text-align: right;\">\n",
       "      <th></th>\n",
       "      <th>Cement</th>\n",
       "      <th>Blast Furnace Slag</th>\n",
       "      <th>Fly Ash</th>\n",
       "      <th>Water</th>\n",
       "      <th>Superplasticizer</th>\n",
       "      <th>Coarse Aggregate</th>\n",
       "      <th>Fine Aggregate</th>\n",
       "      <th>Age</th>\n",
       "      <th>Strength</th>\n",
       "    </tr>\n",
       "  </thead>\n",
       "  <tbody>\n",
       "    <tr>\n",
       "      <th>0</th>\n",
       "      <td>540.0</td>\n",
       "      <td>0.0</td>\n",
       "      <td>0.0</td>\n",
       "      <td>162.0</td>\n",
       "      <td>2.5</td>\n",
       "      <td>1040.0</td>\n",
       "      <td>676.0</td>\n",
       "      <td>28</td>\n",
       "      <td>79.99</td>\n",
       "    </tr>\n",
       "    <tr>\n",
       "      <th>1</th>\n",
       "      <td>540.0</td>\n",
       "      <td>0.0</td>\n",
       "      <td>0.0</td>\n",
       "      <td>162.0</td>\n",
       "      <td>2.5</td>\n",
       "      <td>1055.0</td>\n",
       "      <td>676.0</td>\n",
       "      <td>28</td>\n",
       "      <td>61.89</td>\n",
       "    </tr>\n",
       "    <tr>\n",
       "      <th>2</th>\n",
       "      <td>332.5</td>\n",
       "      <td>142.5</td>\n",
       "      <td>0.0</td>\n",
       "      <td>228.0</td>\n",
       "      <td>0.0</td>\n",
       "      <td>932.0</td>\n",
       "      <td>594.0</td>\n",
       "      <td>270</td>\n",
       "      <td>40.27</td>\n",
       "    </tr>\n",
       "    <tr>\n",
       "      <th>3</th>\n",
       "      <td>332.5</td>\n",
       "      <td>142.5</td>\n",
       "      <td>0.0</td>\n",
       "      <td>228.0</td>\n",
       "      <td>0.0</td>\n",
       "      <td>932.0</td>\n",
       "      <td>594.0</td>\n",
       "      <td>365</td>\n",
       "      <td>41.05</td>\n",
       "    </tr>\n",
       "    <tr>\n",
       "      <th>4</th>\n",
       "      <td>198.6</td>\n",
       "      <td>132.4</td>\n",
       "      <td>0.0</td>\n",
       "      <td>192.0</td>\n",
       "      <td>0.0</td>\n",
       "      <td>978.4</td>\n",
       "      <td>825.5</td>\n",
       "      <td>360</td>\n",
       "      <td>44.30</td>\n",
       "    </tr>\n",
       "  </tbody>\n",
       "</table>\n",
       "</div>"
      ],
      "text/plain": [
       "   Cement  Blast Furnace Slag  Fly Ash  Water  Superplasticizer  \\\n",
       "0   540.0                 0.0      0.0  162.0               2.5   \n",
       "1   540.0                 0.0      0.0  162.0               2.5   \n",
       "2   332.5               142.5      0.0  228.0               0.0   \n",
       "3   332.5               142.5      0.0  228.0               0.0   \n",
       "4   198.6               132.4      0.0  192.0               0.0   \n",
       "\n",
       "   Coarse Aggregate  Fine Aggregate  Age  Strength  \n",
       "0            1040.0           676.0   28     79.99  \n",
       "1            1055.0           676.0   28     61.89  \n",
       "2             932.0           594.0  270     40.27  \n",
       "3             932.0           594.0  365     41.05  \n",
       "4             978.4           825.5  360     44.30  "
      ]
     },
     "execution_count": 2,
     "metadata": {},
     "output_type": "execute_result"
    }
   ],
   "source": [
    "concrete_data = pd.read_csv('https://cocl.us/concrete_data')\n",
    "concrete_data.head()"
   ]
  },
  {
   "cell_type": "markdown",
   "metadata": {},
   "source": [
    "Drop some columns that is not essential and Get data for targets"
   ]
  },
  {
   "cell_type": "code",
   "execution_count": 3,
   "metadata": {},
   "outputs": [
    {
     "data": {
      "text/html": [
       "<div>\n",
       "<style scoped>\n",
       "    .dataframe tbody tr th:only-of-type {\n",
       "        vertical-align: middle;\n",
       "    }\n",
       "\n",
       "    .dataframe tbody tr th {\n",
       "        vertical-align: top;\n",
       "    }\n",
       "\n",
       "    .dataframe thead th {\n",
       "        text-align: right;\n",
       "    }\n",
       "</style>\n",
       "<table border=\"1\" class=\"dataframe\">\n",
       "  <thead>\n",
       "    <tr style=\"text-align: right;\">\n",
       "      <th></th>\n",
       "      <th>Cement</th>\n",
       "      <th>Blast Furnace Slag</th>\n",
       "      <th>Fly Ash</th>\n",
       "      <th>Water</th>\n",
       "      <th>Superplasticizer</th>\n",
       "      <th>Coarse Aggregate</th>\n",
       "      <th>Fine Aggregate</th>\n",
       "    </tr>\n",
       "  </thead>\n",
       "  <tbody>\n",
       "    <tr>\n",
       "      <th>0</th>\n",
       "      <td>540.0</td>\n",
       "      <td>0.0</td>\n",
       "      <td>0.0</td>\n",
       "      <td>162.0</td>\n",
       "      <td>2.5</td>\n",
       "      <td>1040.0</td>\n",
       "      <td>676.0</td>\n",
       "    </tr>\n",
       "    <tr>\n",
       "      <th>1</th>\n",
       "      <td>540.0</td>\n",
       "      <td>0.0</td>\n",
       "      <td>0.0</td>\n",
       "      <td>162.0</td>\n",
       "      <td>2.5</td>\n",
       "      <td>1055.0</td>\n",
       "      <td>676.0</td>\n",
       "    </tr>\n",
       "    <tr>\n",
       "      <th>2</th>\n",
       "      <td>332.5</td>\n",
       "      <td>142.5</td>\n",
       "      <td>0.0</td>\n",
       "      <td>228.0</td>\n",
       "      <td>0.0</td>\n",
       "      <td>932.0</td>\n",
       "      <td>594.0</td>\n",
       "    </tr>\n",
       "    <tr>\n",
       "      <th>3</th>\n",
       "      <td>332.5</td>\n",
       "      <td>142.5</td>\n",
       "      <td>0.0</td>\n",
       "      <td>228.0</td>\n",
       "      <td>0.0</td>\n",
       "      <td>932.0</td>\n",
       "      <td>594.0</td>\n",
       "    </tr>\n",
       "    <tr>\n",
       "      <th>4</th>\n",
       "      <td>198.6</td>\n",
       "      <td>132.4</td>\n",
       "      <td>0.0</td>\n",
       "      <td>192.0</td>\n",
       "      <td>0.0</td>\n",
       "      <td>978.4</td>\n",
       "      <td>825.5</td>\n",
       "    </tr>\n",
       "  </tbody>\n",
       "</table>\n",
       "</div>"
      ],
      "text/plain": [
       "   Cement  Blast Furnace Slag  Fly Ash  Water  Superplasticizer  \\\n",
       "0   540.0                 0.0      0.0  162.0               2.5   \n",
       "1   540.0                 0.0      0.0  162.0               2.5   \n",
       "2   332.5               142.5      0.0  228.0               0.0   \n",
       "3   332.5               142.5      0.0  228.0               0.0   \n",
       "4   198.6               132.4      0.0  192.0               0.0   \n",
       "\n",
       "   Coarse Aggregate  Fine Aggregate  \n",
       "0            1040.0           676.0  \n",
       "1            1055.0           676.0  \n",
       "2             932.0           594.0  \n",
       "3             932.0           594.0  \n",
       "4             978.4           825.5  "
      ]
     },
     "execution_count": 3,
     "metadata": {},
     "output_type": "execute_result"
    }
   ],
   "source": [
    "targets=concrete_data['Strength'] # target to predict\n",
    "predictors = concrete_data.drop(['Age','Strength'],axis=1) #skip columns that are not features\n",
    "predictors.head() # display data to test"
   ]
  },
  {
   "cell_type": "markdown",
   "metadata": {},
   "source": [
    "<b> A. Build a baseline model </b>\n",
    "(Hidden layers consist 10 nodes, loss is mean_squared_error, optimizer is adam)"
   ]
  },
  {
   "cell_type": "markdown",
   "metadata": {},
   "source": [
    "Normalize data before going to process"
   ]
  },
  {
   "cell_type": "code",
   "execution_count": 4,
   "metadata": {},
   "outputs": [
    {
     "data": {
      "text/html": [
       "<div>\n",
       "<style scoped>\n",
       "    .dataframe tbody tr th:only-of-type {\n",
       "        vertical-align: middle;\n",
       "    }\n",
       "\n",
       "    .dataframe tbody tr th {\n",
       "        vertical-align: top;\n",
       "    }\n",
       "\n",
       "    .dataframe thead th {\n",
       "        text-align: right;\n",
       "    }\n",
       "</style>\n",
       "<table border=\"1\" class=\"dataframe\">\n",
       "  <thead>\n",
       "    <tr style=\"text-align: right;\">\n",
       "      <th></th>\n",
       "      <th>Cement</th>\n",
       "      <th>Blast Furnace Slag</th>\n",
       "      <th>Fly Ash</th>\n",
       "      <th>Water</th>\n",
       "      <th>Superplasticizer</th>\n",
       "      <th>Coarse Aggregate</th>\n",
       "      <th>Fine Aggregate</th>\n",
       "    </tr>\n",
       "  </thead>\n",
       "  <tbody>\n",
       "    <tr>\n",
       "      <th>0</th>\n",
       "      <td>2.476712</td>\n",
       "      <td>-0.856472</td>\n",
       "      <td>-0.846733</td>\n",
       "      <td>-0.916319</td>\n",
       "      <td>-0.620147</td>\n",
       "      <td>0.862735</td>\n",
       "      <td>-1.217079</td>\n",
       "    </tr>\n",
       "    <tr>\n",
       "      <th>1</th>\n",
       "      <td>2.476712</td>\n",
       "      <td>-0.856472</td>\n",
       "      <td>-0.846733</td>\n",
       "      <td>-0.916319</td>\n",
       "      <td>-0.620147</td>\n",
       "      <td>1.055651</td>\n",
       "      <td>-1.217079</td>\n",
       "    </tr>\n",
       "    <tr>\n",
       "      <th>2</th>\n",
       "      <td>0.491187</td>\n",
       "      <td>0.795140</td>\n",
       "      <td>-0.846733</td>\n",
       "      <td>2.174405</td>\n",
       "      <td>-1.038638</td>\n",
       "      <td>-0.526262</td>\n",
       "      <td>-2.239829</td>\n",
       "    </tr>\n",
       "    <tr>\n",
       "      <th>3</th>\n",
       "      <td>0.491187</td>\n",
       "      <td>0.795140</td>\n",
       "      <td>-0.846733</td>\n",
       "      <td>2.174405</td>\n",
       "      <td>-1.038638</td>\n",
       "      <td>-0.526262</td>\n",
       "      <td>-2.239829</td>\n",
       "    </tr>\n",
       "    <tr>\n",
       "      <th>4</th>\n",
       "      <td>-0.790075</td>\n",
       "      <td>0.678079</td>\n",
       "      <td>-0.846733</td>\n",
       "      <td>0.488555</td>\n",
       "      <td>-1.038638</td>\n",
       "      <td>0.070492</td>\n",
       "      <td>0.647569</td>\n",
       "    </tr>\n",
       "  </tbody>\n",
       "</table>\n",
       "</div>"
      ],
      "text/plain": [
       "     Cement  Blast Furnace Slag   Fly Ash     Water  Superplasticizer  \\\n",
       "0  2.476712           -0.856472 -0.846733 -0.916319         -0.620147   \n",
       "1  2.476712           -0.856472 -0.846733 -0.916319         -0.620147   \n",
       "2  0.491187            0.795140 -0.846733  2.174405         -1.038638   \n",
       "3  0.491187            0.795140 -0.846733  2.174405         -1.038638   \n",
       "4 -0.790075            0.678079 -0.846733  0.488555         -1.038638   \n",
       "\n",
       "   Coarse Aggregate  Fine Aggregate  \n",
       "0          0.862735       -1.217079  \n",
       "1          1.055651       -1.217079  \n",
       "2         -0.526262       -2.239829  \n",
       "3         -0.526262       -2.239829  \n",
       "4          0.070492        0.647569  "
      ]
     },
     "execution_count": 4,
     "metadata": {},
     "output_type": "execute_result"
    }
   ],
   "source": [
    "predictors_norm = (predictors - predictors.mean()) / predictors.std()\n",
    "predictors_norm.head()"
   ]
  },
  {
   "cell_type": "code",
   "execution_count": 5,
   "metadata": {},
   "outputs": [],
   "source": [
    "n_cols=predictors_norm.shape[1]\n",
    "# define regression model\n",
    "def regression_model():\n",
    "    # create model\n",
    "    model = Sequential()\n",
    "    model.add(Dense(10, activation='relu', input_shape=(n_cols,)))\n",
    "    model.add(Dense(1))\n",
    "    \n",
    "    # compile model\n",
    "    model.compile(optimizer='adam', loss='mean_squared_error',metrics=[\"accuracy\"])\n",
    "    return model"
   ]
  },
  {
   "cell_type": "code",
   "execution_count": 6,
   "metadata": {},
   "outputs": [
    {
     "name": "stdout",
     "output_type": "stream",
     "text": [
      "WARNING:tensorflow:From /opt/conda/envs/Python36/lib/python3.6/site-packages/tensorflow/python/framework/op_def_library.py:263: colocate_with (from tensorflow.python.framework.ops) is deprecated and will be removed in a future version.\n",
      "Instructions for updating:\n",
      "Colocations handled automatically by placer.\n"
     ]
    }
   ],
   "source": [
    "# prepare model to train\n",
    "model = regression_model()"
   ]
  },
  {
   "cell_type": "markdown",
   "metadata": {},
   "source": [
    "1.Split data set into test and train datasets"
   ]
  },
  {
   "cell_type": "code",
   "execution_count": 7,
   "metadata": {},
   "outputs": [],
   "source": [
    "x_train,x_test,y_train,y_test=train_test_split(predictors_norm, targets, test_size=0.3)# not indicate rand_state to make sure it is generated randomly"
   ]
  },
  {
   "cell_type": "markdown",
   "metadata": {},
   "source": [
    "2.Traing model with epochs=50"
   ]
  },
  {
   "cell_type": "code",
   "execution_count": 8,
   "metadata": {},
   "outputs": [
    {
     "name": "stdout",
     "output_type": "stream",
     "text": [
      "WARNING:tensorflow:From /opt/conda/envs/Python36/lib/python3.6/site-packages/tensorflow/python/ops/math_ops.py:3066: to_int32 (from tensorflow.python.ops.math_ops) is deprecated and will be removed in a future version.\n",
      "Instructions for updating:\n",
      "Use tf.cast instead.\n",
      "Epoch 1/50\n",
      " - 1s - loss: 1510.8302 - acc: 0.0000e+00\n",
      "Epoch 2/50\n",
      " - 0s - loss: 1495.7696 - acc: 0.0000e+00\n",
      "Epoch 3/50\n",
      " - 0s - loss: 1480.4034 - acc: 0.0000e+00\n",
      "Epoch 4/50\n",
      " - 0s - loss: 1464.6225 - acc: 0.0000e+00\n",
      "Epoch 5/50\n",
      " - 0s - loss: 1448.2240 - acc: 0.0000e+00\n",
      "Epoch 6/50\n",
      " - 0s - loss: 1430.8675 - acc: 0.0000e+00\n",
      "Epoch 7/50\n",
      " - 0s - loss: 1412.5197 - acc: 0.0000e+00\n",
      "Epoch 8/50\n",
      " - 0s - loss: 1393.4449 - acc: 0.0000e+00\n",
      "Epoch 9/50\n",
      " - 0s - loss: 1373.0543 - acc: 0.0000e+00\n",
      "Epoch 10/50\n",
      " - 0s - loss: 1352.0833 - acc: 0.0000e+00\n",
      "Epoch 11/50\n",
      " - 0s - loss: 1329.7936 - acc: 0.0000e+00\n",
      "Epoch 12/50\n",
      " - 0s - loss: 1306.6468 - acc: 0.0000e+00\n",
      "Epoch 13/50\n",
      " - 0s - loss: 1282.0799 - acc: 0.0000e+00\n",
      "Epoch 14/50\n",
      " - 0s - loss: 1256.4771 - acc: 0.0000e+00\n",
      "Epoch 15/50\n",
      " - 0s - loss: 1230.1754 - acc: 0.0000e+00\n",
      "Epoch 16/50\n",
      " - 0s - loss: 1202.9278 - acc: 0.0000e+00\n",
      "Epoch 17/50\n",
      " - 0s - loss: 1174.7570 - acc: 0.0000e+00\n",
      "Epoch 18/50\n",
      " - 0s - loss: 1146.2604 - acc: 0.0000e+00\n",
      "Epoch 19/50\n",
      " - 0s - loss: 1116.3546 - acc: 0.0000e+00\n",
      "Epoch 20/50\n",
      " - 0s - loss: 1086.4747 - acc: 0.0000e+00\n",
      "Epoch 21/50\n",
      " - 0s - loss: 1055.4720 - acc: 0.0000e+00\n",
      "Epoch 22/50\n",
      " - 0s - loss: 1024.1671 - acc: 0.0000e+00\n",
      "Epoch 23/50\n",
      " - 0s - loss: 991.9407 - acc: 0.0000e+00\n",
      "Epoch 24/50\n",
      " - 0s - loss: 960.2564 - acc: 0.0000e+00\n",
      "Epoch 25/50\n",
      " - 0s - loss: 927.1675 - acc: 0.0000e+00\n",
      "Epoch 26/50\n",
      " - 0s - loss: 895.0499 - acc: 0.0000e+00\n",
      "Epoch 27/50\n",
      " - 0s - loss: 862.6110 - acc: 0.0000e+00\n",
      "Epoch 28/50\n",
      " - 0s - loss: 830.0939 - acc: 0.0000e+00\n",
      "Epoch 29/50\n",
      " - 0s - loss: 798.3473 - acc: 0.0000e+00\n",
      "Epoch 30/50\n",
      " - 0s - loss: 767.0212 - acc: 0.0000e+00\n",
      "Epoch 31/50\n",
      " - 0s - loss: 735.5332 - acc: 0.0000e+00\n",
      "Epoch 32/50\n",
      " - 0s - loss: 705.2823 - acc: 0.0000e+00\n",
      "Epoch 33/50\n",
      " - 0s - loss: 675.9757 - acc: 0.0000e+00\n",
      "Epoch 34/50\n",
      " - 0s - loss: 647.0042 - acc: 0.0000e+00\n",
      "Epoch 35/50\n",
      " - 0s - loss: 619.2365 - acc: 0.0000e+00\n",
      "Epoch 36/50\n",
      " - 0s - loss: 592.4053 - acc: 0.0000e+00\n",
      "Epoch 37/50\n",
      " - 0s - loss: 567.3881 - acc: 0.0000e+00\n",
      "Epoch 38/50\n",
      " - 0s - loss: 542.4626 - acc: 0.0000e+00\n",
      "Epoch 39/50\n",
      " - 0s - loss: 518.9450 - acc: 0.0000e+00\n",
      "Epoch 40/50\n",
      " - 0s - loss: 496.6298 - acc: 0.0000e+00\n",
      "Epoch 41/50\n",
      " - 0s - loss: 475.0733 - acc: 0.0000e+00\n",
      "Epoch 42/50\n",
      " - 0s - loss: 454.8882 - acc: 0.0014\n",
      "Epoch 43/50\n",
      " - 0s - loss: 435.5670 - acc: 0.0014\n",
      "Epoch 44/50\n",
      " - 0s - loss: 417.5306 - acc: 0.0014\n",
      "Epoch 45/50\n",
      " - 1s - loss: 400.7145 - acc: 0.0014\n",
      "Epoch 46/50\n",
      " - 0s - loss: 384.9423 - acc: 0.0000e+00\n",
      "Epoch 47/50\n",
      " - 0s - loss: 370.3580 - acc: 0.0000e+00\n",
      "Epoch 48/50\n",
      " - 0s - loss: 356.2937 - acc: 0.0000e+00\n",
      "Epoch 49/50\n",
      " - 0s - loss: 343.2133 - acc: 0.0000e+00\n",
      "Epoch 50/50\n",
      " - 0s - loss: 331.1604 - acc: 0.0000e+00\n"
     ]
    },
    {
     "data": {
      "text/plain": [
       "<keras.callbacks.History at 0x7f1e065598d0>"
      ]
     },
     "execution_count": 8,
     "metadata": {},
     "output_type": "execute_result"
    }
   ],
   "source": [
    "# train the model\n",
    "model.fit(x_train, y_train, epochs=50, verbose=2)"
   ]
  },
  {
   "cell_type": "markdown",
   "metadata": {},
   "source": [
    "3.Evaluate with data test"
   ]
  },
  {
   "cell_type": "code",
   "execution_count": 9,
   "metadata": {},
   "outputs": [
    {
     "name": "stdout",
     "output_type": "stream",
     "text": [
      "Accuracy is  0.0\n",
      "Mse is: 19.074052417627556\n"
     ]
    }
   ],
   "source": [
    "#evaluate on data test\n",
    "scores=model.evaluate(x_test,y_test,verbose=0)\n",
    "print('Accuracy is ',scores[1]*100)\n",
    "\n",
    "# compute mean_squared_error\n",
    "pred_test= model.predict(x_test)\n",
    "print(\"Mse is:\",np.sqrt(mean_squared_error(y_test,pred_test))) "
   ]
  },
  {
   "cell_type": "markdown",
   "metadata": {},
   "source": [
    "4. Repeat steps 1 - 3, 50 times"
   ]
  },
  {
   "cell_type": "code",
   "execution_count": 10,
   "metadata": {},
   "outputs": [
    {
     "name": "stdout",
     "output_type": "stream",
     "text": [
      "Training step  1 ...\n",
      "Training step  2 ...\n",
      "Training step  3 ...\n",
      "Training step  4 ...\n",
      "Training step  5 ...\n",
      "Training step  6 ...\n",
      "Training step  7 ...\n",
      "Training step  8 ...\n",
      "Training step  9 ...\n",
      "Training step  10 ...\n",
      "Training step  11 ...\n",
      "Training step  12 ...\n",
      "Training step  13 ...\n",
      "Training step  14 ...\n",
      "Training step  15 ...\n",
      "Training step  16 ...\n",
      "Training step  17 ...\n",
      "Training step  18 ...\n",
      "Training step  19 ...\n",
      "Training step  20 ...\n",
      "Training step  21 ...\n",
      "Training step  22 ...\n",
      "Training step  23 ...\n",
      "Training step  24 ...\n",
      "Training step  25 ...\n",
      "Training step  26 ...\n",
      "Training step  27 ...\n",
      "Training step  28 ...\n",
      "Training step  29 ...\n",
      "Training step  30 ...\n",
      "Training step  31 ...\n",
      "Training step  32 ...\n",
      "Training step  33 ...\n",
      "Training step  34 ...\n",
      "Training step  35 ...\n",
      "Training step  36 ...\n",
      "Training step  37 ...\n",
      "Training step  38 ...\n",
      "Training step  39 ...\n",
      "Training step  40 ...\n",
      "Training step  41 ...\n",
      "Training step  42 ...\n",
      "Training step  43 ...\n",
      "Training step  44 ...\n",
      "Training step  45 ...\n",
      "Training step  46 ...\n",
      "Training step  47 ...\n",
      "Training step  48 ...\n",
      "Training step  49 ...\n",
      "Training step  50 ...\n"
     ]
    }
   ],
   "source": [
    "mse_list=[]\n",
    "for x in range(50):\n",
    "    #step 1\n",
    "    x_train,x_test,y_train,y_test=train_test_split(predictors_norm, targets, test_size=0.3)\n",
    "    \n",
    "    #step 2\n",
    "    print(\"Training step \",(x+1),\"...\")\n",
    "    model.fit(x_train, y_train, epochs=50, verbose=0) # step 2\n",
    "    \n",
    "    #step 3:\n",
    "    #evaluate on data test\n",
    "    scores=model.evaluate(x_test,y_test,verbose=0)\n",
    "    # compute mean_squared_error\n",
    "    pred_test= model.predict(x_test)\n",
    "    mse=np.sqrt(mean_squared_error(y_test,pred_test))   \n",
    "    mse_list.append(mse)    "
   ]
  },
  {
   "cell_type": "markdown",
   "metadata": {},
   "source": [
    "5.Print the mean and the standard deviation of the mean squared errors."
   ]
  },
  {
   "cell_type": "code",
   "execution_count": 12,
   "metadata": {},
   "outputs": [
    {
     "name": "stdout",
     "output_type": "stream",
     "text": [
      "Mean is 11.78%  and STD is: (+/- 0.50%)\n"
     ]
    }
   ],
   "source": [
    "print(\"Mean is %.2f%%  and STD is: (+/- %.2f%%)\" % (np.mean(mse_list), np.std(mse_list)))"
   ]
  },
  {
   "cell_type": "code",
   "execution_count": null,
   "metadata": {},
   "outputs": [],
   "source": []
  }
 ],
 "metadata": {
  "kernelspec": {
   "display_name": "Python 3.6",
   "language": "python",
   "name": "python3"
  },
  "language_info": {
   "codemirror_mode": {
    "name": "ipython",
    "version": 3
   },
   "file_extension": ".py",
   "mimetype": "text/x-python",
   "name": "python",
   "nbconvert_exporter": "python",
   "pygments_lexer": "ipython3",
   "version": "3.6.9"
  }
 },
 "nbformat": 4,
 "nbformat_minor": 1
}
